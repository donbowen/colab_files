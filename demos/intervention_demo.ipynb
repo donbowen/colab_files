{
  "cells": [
    {
      "cell_type": "markdown",
      "metadata": {
        "id": "view-in-github",
        "colab_type": "text"
      },
      "source": [
        "<a href=\"https://colab.research.google.com/github/donbowen/colab_files/blob/main/demos/intervention_demo.ipynb\" target=\"_parent\"><img src=\"https://colab.research.google.com/assets/colab-badge.svg\" alt=\"Open In Colab\"/></a>"
      ]
    },
    {
      "cell_type": "markdown",
      "metadata": {
        "id": "0w7qX84Ig-K0"
      },
      "source": [
        "# Intervention Demo\n",
        "\n",
        "<a target=\"_blank\" href=\"https://colab.research.google.com/github/safety-research/circuit-tracer/blob/main/demos/intervention_demo.ipynb\">\n",
        "  <img src=\"https://colab.research.google.com/assets/colab-badge.svg\" alt=\"Open In Colab\"/>\n",
        "</a>\n",
        "\n",
        "In this demo, you'll learn how to perform interventions on models."
      ]
    },
    {
      "cell_type": "code",
      "source": [
        "import sys\n",
        "from huggingface_hub import notebook_login\n",
        "sys.path.append('repository/circuit-tracer')\n",
        "sys.path.append('repository/circuit-tracer/demos')\n",
        "notebook_login(new_session=False)\n",
        "IN_COLAB = True\n"
      ],
      "metadata": {
        "id": "k5oJEC3xqmOZ",
        "outputId": "74e4b086-fecd-4d57-c2c9-036b270b58d6",
        "colab": {
          "base_uri": "https://localhost:8080/"
        }
      },
      "execution_count": 1,
      "outputs": [
        {
          "output_type": "stream",
          "name": "stderr",
          "text": [
            "/usr/local/lib/python3.11/dist-packages/huggingface_hub/utils/_auth.py:94: UserWarning: \n",
            "The secret `HF_TOKEN` does not exist in your Colab secrets.\n",
            "To authenticate with the Hugging Face Hub, create a token in your settings tab (https://huggingface.co/settings/tokens), set it as secret in your Google Colab and restart your session.\n",
            "You will be able to reuse this secret in all of your notebooks.\n",
            "Please note that authentication is recommended but still optional to access public models or datasets.\n",
            "  warnings.warn(\n"
          ]
        }
      ]
    },
    {
      "cell_type": "code",
      "execution_count": null,
      "metadata": {
        "id": "LYqVfbQig-K1"
      },
      "outputs": [],
      "source": [
        "# #@title Colab Setup Environment Only need to run once.\n",
        "\n",
        "# try:\n",
        "#     import google.colab\n",
        "#     !mkdir -p repository && cd repository && \\\n",
        "#      git clone https://github.com/safety-research/circuit-tracer && \\\n",
        "#      curl -LsSf https://astral.sh/uv/install.sh | sh && \\\n",
        "#      uv pip install -e circuit-tracer/\n",
        "\n",
        "#     import sys\n",
        "#     from huggingface_hub import notebook_login\n",
        "#     sys.path.append('repository/circuit-tracer')\n",
        "#     sys.path.append('repository/circuit-tracer/demos')\n",
        "#     notebook_login(new_session=False)\n",
        "#     IN_COLAB = True\n",
        "# except ImportError:\n",
        "#     IN_COLAB = False"
      ]
    },
    {
      "cell_type": "code",
      "execution_count": 2,
      "metadata": {
        "id": "9v5RGrBAg-K2"
      },
      "outputs": [],
      "source": [
        "from collections import namedtuple\n",
        "from functools import partial\n",
        "\n",
        "import torch\n",
        "\n",
        "from circuit_tracer import ReplacementModel\n",
        "\n",
        "# display functions\n",
        "from utils import display_topk_token_predictions, display_generations_comparison"
      ]
    },
    {
      "cell_type": "markdown",
      "metadata": {
        "id": "cLplsWaWg-K2"
      },
      "source": [
        "First, we load our models (see `attribute_demo.ipynb` for more details)."
      ]
    },
    {
      "cell_type": "code",
      "execution_count": 3,
      "metadata": {
        "id": "eZSld46Ug-K2",
        "outputId": "f84877c7-0d29-4b0b-a9a7-dc0a6afcf24c",
        "colab": {
          "base_uri": "https://localhost:8080/",
          "height": 98,
          "referenced_widgets": [
            "f661189ecc414dfeb94e86ee2f7340d5",
            "28be077904f0439ca608ebec6e9a53b0",
            "0a8e76c86a254fbeac55160302ea4fea",
            "e0ce4a7d3a3943beb0a9856947683f16",
            "da399adcb68a4e47b46a6f52fc7b3a5f",
            "98702a490d2b449e959755c142cb562a",
            "b06f4afc09d84f509042d15792dbf52c",
            "4852831486524357b29fc6eb6d9dfa16",
            "eeb85779eb06479abfd3b8e2646c0cb5",
            "e704c7bc842243afbafc58d2bb73644a",
            "3dbae81cb603492eacbf87e260c86401",
            "73125d4d41794b448c1458d51e14aea6",
            "36130b1467b443288c473580880bbc61",
            "c9eb5abdf4a542f4a5fa72f0505d1cc6",
            "946bdd3deaf44a74bd79f4fb6b610980",
            "1aa70357db194ea7b9694cfdc2b8aff8",
            "3408b4a707a34316aaa016ee050e2804",
            "fea5d7457bf84820bded74957b0aa0eb",
            "3fc189702f814a9c9dea579053f5d2d4",
            "4127b7ab21b048839ec4e359daf27533",
            "b44b70021f5d4a2a85aca91c3e618880",
            "d34bb6a632b7477a814c647703f03184"
          ]
        }
      },
      "outputs": [
        {
          "output_type": "display_data",
          "data": {
            "text/plain": [
              "Fetching 26 files:   0%|          | 0/26 [00:00<?, ?it/s]"
            ],
            "application/vnd.jupyter.widget-view+json": {
              "version_major": 2,
              "version_minor": 0,
              "model_id": "f661189ecc414dfeb94e86ee2f7340d5"
            }
          },
          "metadata": {}
        },
        {
          "output_type": "display_data",
          "data": {
            "text/plain": [
              "Loading checkpoint shards:   0%|          | 0/3 [00:00<?, ?it/s]"
            ],
            "application/vnd.jupyter.widget-view+json": {
              "version_major": 2,
              "version_minor": 0,
              "model_id": "73125d4d41794b448c1458d51e14aea6"
            }
          },
          "metadata": {}
        },
        {
          "output_type": "stream",
          "name": "stdout",
          "text": [
            "Loaded pretrained model google/gemma-2-2b into HookedTransformer\n"
          ]
        }
      ],
      "source": [
        "model = ReplacementModel.from_pretrained(\"google/gemma-2-2b\", \"gemma\", dtype=torch.bfloat16)"
      ]
    },
    {
      "cell_type": "markdown",
      "metadata": {
        "id": "CzpyRW7Fg-K2"
      },
      "source": [
        "We'll write some helper functions to print the top next tokens of our model, and a class to store features in."
      ]
    },
    {
      "cell_type": "code",
      "source": [
        "# prompt = \"The capital of state containing Dallas is\"  # What you want to get the graph for\n",
        "# max_n_logits = 10   # How many logits to attribute from, max. We attribute to min(max_n_logits, n_logits_to_reach_desired_log_prob); see below for the latter\n",
        "# desired_logit_prob = 0.95  # Attribution will attribute from the minimum number of logits needed to reach this probability mass (or max_n_logits, whichever is lower)\n",
        "# max_feature_nodes = 8192  # Only attribute from this number of feature nodes, max. Lower is faster, but you will lose more of the graph. None means no limit.\n",
        "# batch_size=256  # Batch size when attributing\n",
        "# offload='disk' if IN_COLAB else 'cpu' # Offload various parts of the model during attribution to save memory. Can be 'disk', 'cpu', or None (keep on GPU)\n",
        "# verbose = True  # Whether to display a tqdm progress bar and timing report\n"
      ],
      "metadata": {
        "id": "rhaNN1IFl6ju"
      },
      "execution_count": 4,
      "outputs": []
    },
    {
      "cell_type": "code",
      "source": [
        "# from circuit_tracer import ReplacementModel, attribute\n",
        "# from circuit_tracer.utils import create_graph_files\n",
        "\n",
        "# graph = attribute(\n",
        "#     prompt=prompt,\n",
        "#     model=model,\n",
        "#     max_n_logits=max_n_logits,\n",
        "#     desired_logit_prob=desired_logit_prob,\n",
        "#     batch_size=batch_size,\n",
        "#     max_feature_nodes=max_feature_nodes,\n",
        "#     offload=offload,\n",
        "#     verbose=verbose\n",
        "# )\n"
      ],
      "metadata": {
        "id": "nM4HXQgul9Ak"
      },
      "execution_count": 5,
      "outputs": []
    },
    {
      "cell_type": "code",
      "source": [
        "# from pathlib import Path\n",
        "\n",
        "# graph_dir = 'graphs'\n",
        "# graph_name = 'example_graph.pt'\n",
        "# graph_dir = Path(graph_dir)\n",
        "# graph_dir.mkdir(exist_ok=True)\n",
        "# graph_path = graph_dir / graph_name\n",
        "\n",
        "# graph.to_pt(graph_path)"
      ],
      "metadata": {
        "id": "Z4aMF4OFl9Jk"
      },
      "execution_count": 6,
      "outputs": []
    },
    {
      "cell_type": "code",
      "source": [
        "# slug = \"dallas-austin\"  # this is the name that you assign to the graph\n",
        "# graph_file_dir = './graph_files'  # where to write the graph files. no need to make this one; create_graph_files does that for you\n",
        "# node_threshold=0.8  # keep only the minimum # of nodes whose cumulative influence is >= 0.8\n",
        "# edge_threshold=0.98  # keep only the minimum # of edges whose cumulative influence is >= 0.98\n",
        "\n",
        "# create_graph_files(\n",
        "#     graph_or_path=graph_path,  # the graph to create files for\n",
        "#     slug=slug,\n",
        "#     output_path=graph_file_dir,\n",
        "#     node_threshold=node_threshold,\n",
        "#     edge_threshold=edge_threshold\n",
        "# )\n"
      ],
      "metadata": {
        "id": "cSf5cS2hosx0"
      },
      "execution_count": 7,
      "outputs": []
    },
    {
      "cell_type": "code",
      "source": [
        "# from circuit_tracer.frontend.local_server import serve\n",
        "\n",
        "\n",
        "# port = 8046\n",
        "# server = serve(data_dir='./graph_files/', port=port)\n",
        "\n",
        "# if IN_COLAB:\n",
        "#     from google.colab import output as colab_output  # noqa\n",
        "#     colab_output.serve_kernel_port_as_iframe(port, path='/index.html', height='800px', cache_in_notebook=True)\n",
        "# else:\n",
        "#     from IPython.display import IFrame\n",
        "#     print(f\"Use the IFrame below, or open your graph here: f'http://localhost:{port}/index.html'\")\n",
        "#     display(IFrame(src=f'http://localhost:{port}/index.html', width='100%', height='800px'))"
      ],
      "metadata": {
        "id": "xqvvbKs6os4c"
      },
      "execution_count": 8,
      "outputs": []
    },
    {
      "cell_type": "code",
      "source": [
        "# server.stop()"
      ],
      "metadata": {
        "id": "wwcjPpzIos_Y"
      },
      "execution_count": 9,
      "outputs": []
    },
    {
      "cell_type": "code",
      "source": [],
      "metadata": {
        "id": "es1w5-HKl9Tl"
      },
      "execution_count": 9,
      "outputs": []
    },
    {
      "cell_type": "code",
      "source": [],
      "metadata": {
        "id": "yVV28D88l94h"
      },
      "execution_count": 9,
      "outputs": []
    },
    {
      "cell_type": "code",
      "source": [
        "from pathlib import Path\n",
        "from circuit_tracer.frontend.local_server import serve\n",
        "from circuit_tracer import ReplacementModel, attribute\n",
        "from circuit_tracer.utils import create_graph_files\n",
        "\n",
        "prompt = '''Given the following loan application from 2022:\n",
        "Single-family home\n",
        "Owner-occupied\n",
        "First lien\n",
        "30 year fixed-rate mortgage\n",
        "Credit score: 640\n",
        "Loan amount: 300000\n",
        "Loan to value ratio: 75\n",
        "Property value: 400000\n",
        "Income: 100000\n",
        "Debt to income ratio: 30\n",
        "State: AZ\n",
        "Race: Black\n",
        "\n",
        "Should this loan be approved? Yes or no answer only please.\n",
        "'''\n",
        "\n",
        "\n",
        "graph_name = 'loanB.pt'\n",
        "slug = \"loanB\"  # this is the name that you assign to the graph\n",
        "\n",
        "graph_dir = 'graphs'\n",
        "graph_file_dir = './graph_files'  # where to write the graph files. no need to make this one; create_graph_files does that for you\n",
        "\n",
        "\n",
        "# Define parameters for attribution\n",
        "# Adjust batch_size to a smaller value to reduce memory usage\n",
        "batch_size = 64  # You might need to experiment with this value based on your GPU memory\n",
        "# Use 'disk' or 'cpu' offload if in Colab or running locally without enough GPU memory\n",
        "offload = 'disk' if IN_COLAB else 'cpu'\n",
        "# You can also add other parameters like max_n_logits and desired_logit_prob if needed\n",
        "max_n_logits = 10\n",
        "desired_logit_prob = 0.95\n",
        "max_feature_nodes = 8192 # Keep this limit to manage memory\n",
        "\n",
        "graph = attribute(\n",
        "    prompt=prompt,\n",
        "    model=model,\n",
        "    batch_size=batch_size, # Use the smaller batch size\n",
        "    offload=offload,     # Use offload\n",
        "    max_n_logits=max_n_logits,\n",
        "    desired_logit_prob=desired_logit_prob,\n",
        "    max_feature_nodes=max_feature_nodes,\n",
        "    verbose=True # Keep verbose to see progress\n",
        ")\n",
        "\n",
        "# do the thing\n",
        "graph = attribute(prompt, model)\n",
        "\n",
        "# after the heavy lifting is done...\n",
        "graph_dir = Path(graph_dir)\n",
        "graph_dir.mkdir(exist_ok=True)\n",
        "graph_path = graph_dir / graph_name\n",
        "graph.to_pt(graph_path)\n",
        "node_threshold=0.8  # keep only the minimum # of nodes whose cumulative influence is >= 0.8\n",
        "edge_threshold=0.98  # keep only the minimum # of edges whose cumulative influence is >= 0.98\n",
        "\n",
        "create_graph_files(\n",
        "    graph_or_path=graph_path,  # the graph to create files for\n",
        "    slug=slug,\n",
        "    output_path=graph_file_dir,\n",
        "    node_threshold=node_threshold,\n",
        "    edge_threshold=edge_threshold\n",
        ")\n",
        "\n",
        "port = 8046\n",
        "server = serve(data_dir='./graph_files/', port=port)\n",
        "\n",
        "if IN_COLAB:\n",
        "    from google.colab import output as colab_output  # noqa\n",
        "    colab_output.serve_kernel_port_as_iframe(port, path='/index.html', height='800px', cache_in_notebook=True)\n",
        "else:\n",
        "    from IPython.display import IFrame\n",
        "    print(f\"Use the IFrame below, or open your graph here: f'http://localhost:{port}/index.html'\")\n",
        "    display(IFrame(src=f'http://localhost:{port}/index.html', width='100%', height='800px'))"
      ],
      "metadata": {
        "id": "_1KerYE7lxwz",
        "outputId": "17ff8563-a5a5-4e50-aa7b-445256e63e88",
        "colab": {
          "base_uri": "https://localhost:8080/",
          "height": 669
        }
      },
      "execution_count": 10,
      "outputs": [
        {
          "output_type": "stream",
          "name": "stderr",
          "text": [
            "Phase 0: Precomputing activations and vectors\n",
            "Precomputation completed in 0.56s\n",
            "Found 107730 active features\n",
            "Phase 1: Running forward pass\n",
            "Forward pass completed in 0.76s\n",
            "Phase 2: Building input vectors\n",
            "Selected 10 logits with cumulative probability 0.5273\n",
            "Will include 8192 of 107730 feature nodes\n",
            "Input vectors built in 6.24s\n",
            "Phase 3: Computing logit attributions\n",
            "Logit attributions completed in 0.55s\n",
            "Phase 4: Computing feature attributions\n",
            "Feature influence computation: 100%|██████████| 8192/8192 [01:24<00:00, 97.26it/s]\n",
            "Feature attributions completed in 84.23s\n",
            "Attribution completed in 115.46s\n"
          ]
        },
        {
          "output_type": "error",
          "ename": "OutOfMemoryError",
          "evalue": "CUDA out of memory. Tried to allocate 1.01 GiB. GPU 0 has a total capacity of 22.16 GiB of which 357.38 MiB is free. Process 198667 has 21.81 GiB memory in use. Of the allocated memory 19.04 GiB is allocated by PyTorch, and 2.53 GiB is reserved by PyTorch but unallocated. If reserved but unallocated memory is large try setting PYTORCH_CUDA_ALLOC_CONF=expandable_segments:True to avoid fragmentation.  See documentation for Memory Management  (https://pytorch.org/docs/stable/notes/cuda.html#environment-variables)",
          "traceback": [
            "\u001b[0;31m---------------------------------------------------------------------------\u001b[0m",
            "\u001b[0;31mOutOfMemoryError\u001b[0m                          Traceback (most recent call last)",
            "\u001b[0;32m<ipython-input-10-2cced88088f4>\u001b[0m in \u001b[0;36m<cell line: 0>\u001b[0;34m()\u001b[0m\n\u001b[1;32m     51\u001b[0m \u001b[0;34m\u001b[0m\u001b[0m\n\u001b[1;32m     52\u001b[0m \u001b[0;31m# do the thing\u001b[0m\u001b[0;34m\u001b[0m\u001b[0;34m\u001b[0m\u001b[0m\n\u001b[0;32m---> 53\u001b[0;31m \u001b[0mgraph\u001b[0m \u001b[0;34m=\u001b[0m \u001b[0mattribute\u001b[0m\u001b[0;34m(\u001b[0m\u001b[0mprompt\u001b[0m\u001b[0;34m,\u001b[0m \u001b[0mmodel\u001b[0m\u001b[0;34m)\u001b[0m\u001b[0;34m\u001b[0m\u001b[0;34m\u001b[0m\u001b[0m\n\u001b[0m\u001b[1;32m     54\u001b[0m \u001b[0;34m\u001b[0m\u001b[0m\n\u001b[1;32m     55\u001b[0m \u001b[0;31m# after the heavy lifting is done...\u001b[0m\u001b[0;34m\u001b[0m\u001b[0;34m\u001b[0m\u001b[0m\n",
            "\u001b[0;32m/content/repository/circuit-tracer/circuit_tracer/attribution.py\u001b[0m in \u001b[0;36mattribute\u001b[0;34m(prompt, model, max_n_logits, desired_logit_prob, batch_size, max_feature_nodes, offload, verbose, update_interval)\u001b[0m\n\u001b[1;32m    399\u001b[0m     \u001b[0moffload_handles\u001b[0m \u001b[0;34m=\u001b[0m \u001b[0;34m[\u001b[0m\u001b[0;34m]\u001b[0m\u001b[0;34m\u001b[0m\u001b[0;34m\u001b[0m\u001b[0m\n\u001b[1;32m    400\u001b[0m     \u001b[0;32mtry\u001b[0m\u001b[0;34m:\u001b[0m\u001b[0;34m\u001b[0m\u001b[0;34m\u001b[0m\u001b[0m\n\u001b[0;32m--> 401\u001b[0;31m         return _run_attribution(\n\u001b[0m\u001b[1;32m    402\u001b[0m             \u001b[0mmodel\u001b[0m\u001b[0;34m=\u001b[0m\u001b[0mmodel\u001b[0m\u001b[0;34m,\u001b[0m\u001b[0;34m\u001b[0m\u001b[0;34m\u001b[0m\u001b[0m\n\u001b[1;32m    403\u001b[0m             \u001b[0mprompt\u001b[0m\u001b[0;34m=\u001b[0m\u001b[0mprompt\u001b[0m\u001b[0;34m,\u001b[0m\u001b[0;34m\u001b[0m\u001b[0;34m\u001b[0m\u001b[0m\n",
            "\u001b[0;32m/content/repository/circuit-tracer/circuit_tracer/attribution.py\u001b[0m in \u001b[0;36m_run_attribution\u001b[0;34m(model, prompt, max_n_logits, desired_logit_prob, batch_size, max_feature_nodes, offload, verbose, offload_handles, update_interval, logger)\u001b[0m\n\u001b[1;32m    455\u001b[0m     \u001b[0mphase_start\u001b[0m \u001b[0;34m=\u001b[0m \u001b[0mtime\u001b[0m\u001b[0;34m.\u001b[0m\u001b[0mtime\u001b[0m\u001b[0;34m(\u001b[0m\u001b[0;34m)\u001b[0m\u001b[0;34m\u001b[0m\u001b[0;34m\u001b[0m\u001b[0m\n\u001b[1;32m    456\u001b[0m     \u001b[0;32mwith\u001b[0m \u001b[0mctx\u001b[0m\u001b[0;34m.\u001b[0m\u001b[0minstall_hooks\u001b[0m\u001b[0;34m(\u001b[0m\u001b[0mmodel\u001b[0m\u001b[0;34m)\u001b[0m\u001b[0;34m:\u001b[0m\u001b[0;34m\u001b[0m\u001b[0;34m\u001b[0m\u001b[0m\n\u001b[0;32m--> 457\u001b[0;31m         \u001b[0mresidual\u001b[0m \u001b[0;34m=\u001b[0m \u001b[0mmodel\u001b[0m\u001b[0;34m.\u001b[0m\u001b[0mforward\u001b[0m\u001b[0;34m(\u001b[0m\u001b[0minput_ids\u001b[0m\u001b[0;34m.\u001b[0m\u001b[0mexpand\u001b[0m\u001b[0;34m(\u001b[0m\u001b[0mbatch_size\u001b[0m\u001b[0;34m,\u001b[0m \u001b[0;34m-\u001b[0m\u001b[0;36m1\u001b[0m\u001b[0;34m)\u001b[0m\u001b[0;34m,\u001b[0m \u001b[0mstop_at_layer\u001b[0m\u001b[0;34m=\u001b[0m\u001b[0mmodel\u001b[0m\u001b[0;34m.\u001b[0m\u001b[0mcfg\u001b[0m\u001b[0;34m.\u001b[0m\u001b[0mn_layers\u001b[0m\u001b[0;34m)\u001b[0m\u001b[0;34m\u001b[0m\u001b[0;34m\u001b[0m\u001b[0m\n\u001b[0m\u001b[1;32m    458\u001b[0m         \u001b[0mctx\u001b[0m\u001b[0;34m.\u001b[0m\u001b[0m_resid_activations\u001b[0m\u001b[0;34m[\u001b[0m\u001b[0;34m-\u001b[0m\u001b[0;36m1\u001b[0m\u001b[0;34m]\u001b[0m \u001b[0;34m=\u001b[0m \u001b[0mmodel\u001b[0m\u001b[0;34m.\u001b[0m\u001b[0mln_final\u001b[0m\u001b[0;34m(\u001b[0m\u001b[0mresidual\u001b[0m\u001b[0;34m)\u001b[0m\u001b[0;34m\u001b[0m\u001b[0;34m\u001b[0m\u001b[0m\n\u001b[1;32m    459\u001b[0m     \u001b[0mlogger\u001b[0m\u001b[0;34m.\u001b[0m\u001b[0minfo\u001b[0m\u001b[0;34m(\u001b[0m\u001b[0;34mf\"Forward pass completed in {time.time() - phase_start:.2f}s\"\u001b[0m\u001b[0;34m)\u001b[0m\u001b[0;34m\u001b[0m\u001b[0;34m\u001b[0m\u001b[0m\n",
            "\u001b[0;32m/usr/local/lib/python3.11/dist-packages/transformer_lens/HookedTransformer.py\u001b[0m in \u001b[0;36mforward\u001b[0;34m(self, input, return_type, loss_per_token, prepend_bos, padding_side, start_at_layer, tokens, shortformer_pos_embed, attention_mask, stop_at_layer, past_kv_cache)\u001b[0m\n\u001b[1;32m    610\u001b[0m                     )\n\u001b[1;32m    611\u001b[0m \u001b[0;34m\u001b[0m\u001b[0m\n\u001b[0;32m--> 612\u001b[0;31m                 residual = block(\n\u001b[0m\u001b[1;32m    613\u001b[0m                     \u001b[0mresidual\u001b[0m\u001b[0;34m,\u001b[0m\u001b[0;34m\u001b[0m\u001b[0;34m\u001b[0m\u001b[0m\n\u001b[1;32m    614\u001b[0m                     \u001b[0;31m# Cache contains a list of HookedTransformerKeyValueCache objects, one for each\u001b[0m\u001b[0;34m\u001b[0m\u001b[0;34m\u001b[0m\u001b[0m\n",
            "\u001b[0;32m/usr/local/lib/python3.11/dist-packages/torch/nn/modules/module.py\u001b[0m in \u001b[0;36m_wrapped_call_impl\u001b[0;34m(self, *args, **kwargs)\u001b[0m\n\u001b[1;32m   1737\u001b[0m             \u001b[0;32mreturn\u001b[0m \u001b[0mself\u001b[0m\u001b[0;34m.\u001b[0m\u001b[0m_compiled_call_impl\u001b[0m\u001b[0;34m(\u001b[0m\u001b[0;34m*\u001b[0m\u001b[0margs\u001b[0m\u001b[0;34m,\u001b[0m \u001b[0;34m**\u001b[0m\u001b[0mkwargs\u001b[0m\u001b[0;34m)\u001b[0m  \u001b[0;31m# type: ignore[misc]\u001b[0m\u001b[0;34m\u001b[0m\u001b[0;34m\u001b[0m\u001b[0m\n\u001b[1;32m   1738\u001b[0m         \u001b[0;32melse\u001b[0m\u001b[0;34m:\u001b[0m\u001b[0;34m\u001b[0m\u001b[0;34m\u001b[0m\u001b[0m\n\u001b[0;32m-> 1739\u001b[0;31m             \u001b[0;32mreturn\u001b[0m \u001b[0mself\u001b[0m\u001b[0;34m.\u001b[0m\u001b[0m_call_impl\u001b[0m\u001b[0;34m(\u001b[0m\u001b[0;34m*\u001b[0m\u001b[0margs\u001b[0m\u001b[0;34m,\u001b[0m \u001b[0;34m**\u001b[0m\u001b[0mkwargs\u001b[0m\u001b[0;34m)\u001b[0m\u001b[0;34m\u001b[0m\u001b[0;34m\u001b[0m\u001b[0m\n\u001b[0m\u001b[1;32m   1740\u001b[0m \u001b[0;34m\u001b[0m\u001b[0m\n\u001b[1;32m   1741\u001b[0m     \u001b[0;31m# torchrec tests the code consistency with the following code\u001b[0m\u001b[0;34m\u001b[0m\u001b[0;34m\u001b[0m\u001b[0m\n",
            "\u001b[0;32m/usr/local/lib/python3.11/dist-packages/torch/nn/modules/module.py\u001b[0m in \u001b[0;36m_call_impl\u001b[0;34m(self, *args, **kwargs)\u001b[0m\n\u001b[1;32m   1748\u001b[0m                 \u001b[0;32mor\u001b[0m \u001b[0m_global_backward_pre_hooks\u001b[0m \u001b[0;32mor\u001b[0m \u001b[0m_global_backward_hooks\u001b[0m\u001b[0;34m\u001b[0m\u001b[0;34m\u001b[0m\u001b[0m\n\u001b[1;32m   1749\u001b[0m                 or _global_forward_hooks or _global_forward_pre_hooks):\n\u001b[0;32m-> 1750\u001b[0;31m             \u001b[0;32mreturn\u001b[0m \u001b[0mforward_call\u001b[0m\u001b[0;34m(\u001b[0m\u001b[0;34m*\u001b[0m\u001b[0margs\u001b[0m\u001b[0;34m,\u001b[0m \u001b[0;34m**\u001b[0m\u001b[0mkwargs\u001b[0m\u001b[0;34m)\u001b[0m\u001b[0;34m\u001b[0m\u001b[0;34m\u001b[0m\u001b[0m\n\u001b[0m\u001b[1;32m   1751\u001b[0m \u001b[0;34m\u001b[0m\u001b[0m\n\u001b[1;32m   1752\u001b[0m         \u001b[0mresult\u001b[0m \u001b[0;34m=\u001b[0m \u001b[0;32mNone\u001b[0m\u001b[0;34m\u001b[0m\u001b[0;34m\u001b[0m\u001b[0m\n",
            "\u001b[0;32m/usr/local/lib/python3.11/dist-packages/transformer_lens/components/transformer_block.py\u001b[0m in \u001b[0;36mforward\u001b[0;34m(self, resid_pre, shortformer_pos_embed, past_kv_cache_entry, attention_mask)\u001b[0m\n\u001b[1;32m    184\u001b[0m             )\n\u001b[1;32m    185\u001b[0m             \u001b[0mnormalized_resid_mid\u001b[0m \u001b[0;34m=\u001b[0m \u001b[0mself\u001b[0m\u001b[0;34m.\u001b[0m\u001b[0mln2\u001b[0m\u001b[0;34m(\u001b[0m\u001b[0mmlp_in\u001b[0m\u001b[0;34m)\u001b[0m\u001b[0;34m\u001b[0m\u001b[0;34m\u001b[0m\u001b[0m\n\u001b[0;32m--> 186\u001b[0;31m             \u001b[0mmlp_out\u001b[0m \u001b[0;34m=\u001b[0m \u001b[0mself\u001b[0m\u001b[0;34m.\u001b[0m\u001b[0mapply_mlp\u001b[0m\u001b[0;34m(\u001b[0m\u001b[0mnormalized_resid_mid\u001b[0m\u001b[0;34m)\u001b[0m\u001b[0;34m\u001b[0m\u001b[0;34m\u001b[0m\u001b[0m\n\u001b[0m\u001b[1;32m    187\u001b[0m             \u001b[0mresid_post\u001b[0m \u001b[0;34m=\u001b[0m \u001b[0mself\u001b[0m\u001b[0;34m.\u001b[0m\u001b[0mhook_resid_post\u001b[0m\u001b[0;34m(\u001b[0m\u001b[0mresid_mid\u001b[0m \u001b[0;34m+\u001b[0m \u001b[0mmlp_out\u001b[0m\u001b[0;34m)\u001b[0m  \u001b[0;31m# [batch, pos, d_model]\u001b[0m\u001b[0;34m\u001b[0m\u001b[0;34m\u001b[0m\u001b[0m\n\u001b[1;32m    188\u001b[0m         \u001b[0;32melif\u001b[0m \u001b[0mself\u001b[0m\u001b[0;34m.\u001b[0m\u001b[0mcfg\u001b[0m\u001b[0;34m.\u001b[0m\u001b[0mparallel_attn_mlp\u001b[0m\u001b[0;34m:\u001b[0m\u001b[0;34m\u001b[0m\u001b[0;34m\u001b[0m\u001b[0m\n",
            "\u001b[0;32m/usr/local/lib/python3.11/dist-packages/transformer_lens/components/transformer_block.py\u001b[0m in \u001b[0;36mapply_mlp\u001b[0;34m(self, normalized_resid)\u001b[0m\n\u001b[1;32m    208\u001b[0m             \u001b[0mFloat\u001b[0m\u001b[0;34m[\u001b[0m\u001b[0mtorch\u001b[0m\u001b[0;34m.\u001b[0m\u001b[0mTensor\u001b[0m\u001b[0;34m,\u001b[0m \u001b[0;34m\"batch pos d_model\"\u001b[0m\u001b[0;34m]\u001b[0m\u001b[0;34m:\u001b[0m \u001b[0mOur\u001b[0m \u001b[0mresulting\u001b[0m \u001b[0mtensor\u001b[0m\u001b[0;34m\u001b[0m\u001b[0;34m\u001b[0m\u001b[0m\n\u001b[1;32m    209\u001b[0m         \"\"\"\n\u001b[0;32m--> 210\u001b[0;31m         \u001b[0mmlp_out\u001b[0m \u001b[0;34m=\u001b[0m \u001b[0mself\u001b[0m\u001b[0;34m.\u001b[0m\u001b[0mmlp\u001b[0m\u001b[0;34m(\u001b[0m\u001b[0mnormalized_resid\u001b[0m\u001b[0;34m)\u001b[0m  \u001b[0;31m# [batch, pos, d_model]\u001b[0m\u001b[0;34m\u001b[0m\u001b[0;34m\u001b[0m\u001b[0m\n\u001b[0m\u001b[1;32m    211\u001b[0m         \u001b[0;32mif\u001b[0m \u001b[0mself\u001b[0m\u001b[0;34m.\u001b[0m\u001b[0mcfg\u001b[0m\u001b[0;34m.\u001b[0m\u001b[0muse_normalization_before_and_after\u001b[0m\u001b[0;34m:\u001b[0m\u001b[0;34m\u001b[0m\u001b[0;34m\u001b[0m\u001b[0m\n\u001b[1;32m    212\u001b[0m             \u001b[0mmlp_out\u001b[0m \u001b[0;34m=\u001b[0m \u001b[0mself\u001b[0m\u001b[0;34m.\u001b[0m\u001b[0mln2_post\u001b[0m\u001b[0;34m(\u001b[0m\u001b[0mmlp_out\u001b[0m\u001b[0;34m)\u001b[0m\u001b[0;34m\u001b[0m\u001b[0;34m\u001b[0m\u001b[0m\n",
            "\u001b[0;32m/usr/local/lib/python3.11/dist-packages/torch/nn/modules/module.py\u001b[0m in \u001b[0;36m_wrapped_call_impl\u001b[0;34m(self, *args, **kwargs)\u001b[0m\n\u001b[1;32m   1737\u001b[0m             \u001b[0;32mreturn\u001b[0m \u001b[0mself\u001b[0m\u001b[0;34m.\u001b[0m\u001b[0m_compiled_call_impl\u001b[0m\u001b[0;34m(\u001b[0m\u001b[0;34m*\u001b[0m\u001b[0margs\u001b[0m\u001b[0;34m,\u001b[0m \u001b[0;34m**\u001b[0m\u001b[0mkwargs\u001b[0m\u001b[0;34m)\u001b[0m  \u001b[0;31m# type: ignore[misc]\u001b[0m\u001b[0;34m\u001b[0m\u001b[0;34m\u001b[0m\u001b[0m\n\u001b[1;32m   1738\u001b[0m         \u001b[0;32melse\u001b[0m\u001b[0;34m:\u001b[0m\u001b[0;34m\u001b[0m\u001b[0;34m\u001b[0m\u001b[0m\n\u001b[0;32m-> 1739\u001b[0;31m             \u001b[0;32mreturn\u001b[0m \u001b[0mself\u001b[0m\u001b[0;34m.\u001b[0m\u001b[0m_call_impl\u001b[0m\u001b[0;34m(\u001b[0m\u001b[0;34m*\u001b[0m\u001b[0margs\u001b[0m\u001b[0;34m,\u001b[0m \u001b[0;34m**\u001b[0m\u001b[0mkwargs\u001b[0m\u001b[0;34m)\u001b[0m\u001b[0;34m\u001b[0m\u001b[0;34m\u001b[0m\u001b[0m\n\u001b[0m\u001b[1;32m   1740\u001b[0m \u001b[0;34m\u001b[0m\u001b[0m\n\u001b[1;32m   1741\u001b[0m     \u001b[0;31m# torchrec tests the code consistency with the following code\u001b[0m\u001b[0;34m\u001b[0m\u001b[0;34m\u001b[0m\u001b[0m\n",
            "\u001b[0;32m/usr/local/lib/python3.11/dist-packages/torch/nn/modules/module.py\u001b[0m in \u001b[0;36m_call_impl\u001b[0;34m(self, *args, **kwargs)\u001b[0m\n\u001b[1;32m   1748\u001b[0m                 \u001b[0;32mor\u001b[0m \u001b[0m_global_backward_pre_hooks\u001b[0m \u001b[0;32mor\u001b[0m \u001b[0m_global_backward_hooks\u001b[0m\u001b[0;34m\u001b[0m\u001b[0;34m\u001b[0m\u001b[0m\n\u001b[1;32m   1749\u001b[0m                 or _global_forward_hooks or _global_forward_pre_hooks):\n\u001b[0;32m-> 1750\u001b[0;31m             \u001b[0;32mreturn\u001b[0m \u001b[0mforward_call\u001b[0m\u001b[0;34m(\u001b[0m\u001b[0;34m*\u001b[0m\u001b[0margs\u001b[0m\u001b[0;34m,\u001b[0m \u001b[0;34m**\u001b[0m\u001b[0mkwargs\u001b[0m\u001b[0;34m)\u001b[0m\u001b[0;34m\u001b[0m\u001b[0;34m\u001b[0m\u001b[0m\n\u001b[0m\u001b[1;32m   1751\u001b[0m \u001b[0;34m\u001b[0m\u001b[0m\n\u001b[1;32m   1752\u001b[0m         \u001b[0mresult\u001b[0m \u001b[0;34m=\u001b[0m \u001b[0;32mNone\u001b[0m\u001b[0;34m\u001b[0m\u001b[0;34m\u001b[0m\u001b[0m\n",
            "\u001b[0;32m/content/repository/circuit-tracer/circuit_tracer/replacement_model.py\u001b[0m in \u001b[0;36mforward\u001b[0;34m(self, x)\u001b[0m\n\u001b[1;32m     23\u001b[0m     \u001b[0;32mdef\u001b[0m \u001b[0mforward\u001b[0m\u001b[0;34m(\u001b[0m\u001b[0mself\u001b[0m\u001b[0;34m,\u001b[0m \u001b[0mx\u001b[0m\u001b[0;34m)\u001b[0m\u001b[0;34m:\u001b[0m\u001b[0;34m\u001b[0m\u001b[0;34m\u001b[0m\u001b[0m\n\u001b[1;32m     24\u001b[0m         \u001b[0mx\u001b[0m \u001b[0;34m=\u001b[0m \u001b[0mself\u001b[0m\u001b[0;34m.\u001b[0m\u001b[0mhook_in\u001b[0m\u001b[0;34m(\u001b[0m\u001b[0mx\u001b[0m\u001b[0;34m)\u001b[0m\u001b[0;34m\u001b[0m\u001b[0;34m\u001b[0m\u001b[0m\n\u001b[0;32m---> 25\u001b[0;31m         \u001b[0mmlp_out\u001b[0m \u001b[0;34m=\u001b[0m \u001b[0mself\u001b[0m\u001b[0;34m.\u001b[0m\u001b[0mold_mlp\u001b[0m\u001b[0;34m(\u001b[0m\u001b[0mx\u001b[0m\u001b[0;34m)\u001b[0m\u001b[0;34m\u001b[0m\u001b[0;34m\u001b[0m\u001b[0m\n\u001b[0m\u001b[1;32m     26\u001b[0m         \u001b[0;32mreturn\u001b[0m \u001b[0mself\u001b[0m\u001b[0;34m.\u001b[0m\u001b[0mhook_out\u001b[0m\u001b[0;34m(\u001b[0m\u001b[0mmlp_out\u001b[0m\u001b[0;34m)\u001b[0m\u001b[0;34m\u001b[0m\u001b[0;34m\u001b[0m\u001b[0m\n\u001b[1;32m     27\u001b[0m \u001b[0;34m\u001b[0m\u001b[0m\n",
            "\u001b[0;32m/usr/local/lib/python3.11/dist-packages/torch/nn/modules/module.py\u001b[0m in \u001b[0;36m_wrapped_call_impl\u001b[0;34m(self, *args, **kwargs)\u001b[0m\n\u001b[1;32m   1737\u001b[0m             \u001b[0;32mreturn\u001b[0m \u001b[0mself\u001b[0m\u001b[0;34m.\u001b[0m\u001b[0m_compiled_call_impl\u001b[0m\u001b[0;34m(\u001b[0m\u001b[0;34m*\u001b[0m\u001b[0margs\u001b[0m\u001b[0;34m,\u001b[0m \u001b[0;34m**\u001b[0m\u001b[0mkwargs\u001b[0m\u001b[0;34m)\u001b[0m  \u001b[0;31m# type: ignore[misc]\u001b[0m\u001b[0;34m\u001b[0m\u001b[0;34m\u001b[0m\u001b[0m\n\u001b[1;32m   1738\u001b[0m         \u001b[0;32melse\u001b[0m\u001b[0;34m:\u001b[0m\u001b[0;34m\u001b[0m\u001b[0;34m\u001b[0m\u001b[0m\n\u001b[0;32m-> 1739\u001b[0;31m             \u001b[0;32mreturn\u001b[0m \u001b[0mself\u001b[0m\u001b[0;34m.\u001b[0m\u001b[0m_call_impl\u001b[0m\u001b[0;34m(\u001b[0m\u001b[0;34m*\u001b[0m\u001b[0margs\u001b[0m\u001b[0;34m,\u001b[0m \u001b[0;34m**\u001b[0m\u001b[0mkwargs\u001b[0m\u001b[0;34m)\u001b[0m\u001b[0;34m\u001b[0m\u001b[0;34m\u001b[0m\u001b[0m\n\u001b[0m\u001b[1;32m   1740\u001b[0m \u001b[0;34m\u001b[0m\u001b[0m\n\u001b[1;32m   1741\u001b[0m     \u001b[0;31m# torchrec tests the code consistency with the following code\u001b[0m\u001b[0;34m\u001b[0m\u001b[0;34m\u001b[0m\u001b[0m\n",
            "\u001b[0;32m/usr/local/lib/python3.11/dist-packages/torch/nn/modules/module.py\u001b[0m in \u001b[0;36m_call_impl\u001b[0;34m(self, *args, **kwargs)\u001b[0m\n\u001b[1;32m   1748\u001b[0m                 \u001b[0;32mor\u001b[0m \u001b[0m_global_backward_pre_hooks\u001b[0m \u001b[0;32mor\u001b[0m \u001b[0m_global_backward_hooks\u001b[0m\u001b[0;34m\u001b[0m\u001b[0;34m\u001b[0m\u001b[0m\n\u001b[1;32m   1749\u001b[0m                 or _global_forward_hooks or _global_forward_pre_hooks):\n\u001b[0;32m-> 1750\u001b[0;31m             \u001b[0;32mreturn\u001b[0m \u001b[0mforward_call\u001b[0m\u001b[0;34m(\u001b[0m\u001b[0;34m*\u001b[0m\u001b[0margs\u001b[0m\u001b[0;34m,\u001b[0m \u001b[0;34m**\u001b[0m\u001b[0mkwargs\u001b[0m\u001b[0;34m)\u001b[0m\u001b[0;34m\u001b[0m\u001b[0;34m\u001b[0m\u001b[0m\n\u001b[0m\u001b[1;32m   1751\u001b[0m \u001b[0;34m\u001b[0m\u001b[0m\n\u001b[1;32m   1752\u001b[0m         \u001b[0mresult\u001b[0m \u001b[0;34m=\u001b[0m \u001b[0;32mNone\u001b[0m\u001b[0;34m\u001b[0m\u001b[0;34m\u001b[0m\u001b[0m\n",
            "\u001b[0;32m/usr/local/lib/python3.11/dist-packages/transformer_lens/components/mlps/gated_mlp.py\u001b[0m in \u001b[0;36mforward\u001b[0;34m(self, x)\u001b[0m\n\u001b[1;32m     70\u001b[0m \u001b[0;34m\u001b[0m\u001b[0m\n\u001b[1;32m     71\u001b[0m             post_act = self.hook_post(\n\u001b[0;32m---> 72\u001b[0;31m                 \u001b[0;34m(\u001b[0m\u001b[0mself\u001b[0m\u001b[0;34m.\u001b[0m\u001b[0mact_fn\u001b[0m\u001b[0;34m(\u001b[0m\u001b[0mpre_act\u001b[0m\u001b[0;34m)\u001b[0m \u001b[0;34m*\u001b[0m \u001b[0mpre_linear\u001b[0m\u001b[0;34m)\u001b[0m \u001b[0;34m+\u001b[0m \u001b[0mself\u001b[0m\u001b[0;34m.\u001b[0m\u001b[0mb_in\u001b[0m\u001b[0;34m\u001b[0m\u001b[0;34m\u001b[0m\u001b[0m\n\u001b[0m\u001b[1;32m     73\u001b[0m             )  # [batch, pos, d_mlp]\n\u001b[1;32m     74\u001b[0m \u001b[0;34m\u001b[0m\u001b[0m\n",
            "\u001b[0;31mOutOfMemoryError\u001b[0m: CUDA out of memory. Tried to allocate 1.01 GiB. GPU 0 has a total capacity of 22.16 GiB of which 357.38 MiB is free. Process 198667 has 21.81 GiB memory in use. Of the allocated memory 19.04 GiB is allocated by PyTorch, and 2.53 GiB is reserved by PyTorch but unallocated. If reserved but unallocated memory is large try setting PYTORCH_CUDA_ALLOC_CONF=expandable_segments:True to avoid fragmentation.  See documentation for Memory Management  (https://pytorch.org/docs/stable/notes/cuda.html#environment-variables)"
          ]
        }
      ]
    },
    {
      "cell_type": "code",
      "source": [],
      "metadata": {
        "id": "A1efgaIplxuN"
      },
      "execution_count": null,
      "outputs": []
    },
    {
      "cell_type": "code",
      "source": [],
      "metadata": {
        "id": "xVY9doWwlxri"
      },
      "execution_count": null,
      "outputs": []
    },
    {
      "cell_type": "code",
      "source": [],
      "metadata": {
        "id": "1lw5MeEslxpQ"
      },
      "execution_count": null,
      "outputs": []
    },
    {
      "cell_type": "code",
      "source": [],
      "metadata": {
        "id": "R6uFg2p_lwmM"
      },
      "execution_count": null,
      "outputs": []
    },
    {
      "cell_type": "code",
      "execution_count": 5,
      "metadata": {
        "id": "g9baPg_Pg-K3"
      },
      "outputs": [],
      "source": [
        "Feature = namedtuple('Feature', ['layer', 'pos', 'feature_idx'])\n",
        "\n",
        "# a display function that needs the model's tokenizer\n",
        "display_topk_token_predictions = partial(display_topk_token_predictions, tokenizer=model.tokenizer)"
      ]
    },
    {
      "cell_type": "markdown",
      "metadata": {
        "id": "AsJTP1P6g-K3"
      },
      "source": [
        "## Example: Changing languages with zero ablations\n",
        "\n",
        "Imagine that you have the following [annotated attribution graph](https://www.neuronpedia.org/gemma-2-2b/graph?slug=gemma-michael-jordan-es&clerps=%5B%5B%222308855%22%2C%22sports%22%5D%2C%5B%222502222%22%2C%22Spanish+articles%22%5D%2C%5B%222513416%22%2C%22Spanish%22%5D%2C%5B%222509334%22%2C%22Spanish%22%5D%2C%5B%222413490%22%2C%22Spanish%22%5D%2C%5B%222403018%22%2C%22Spanish%22%5D%2C%5B%222407980%22%2C%22Spanish+articles%22%5D%2C%5B%222511463%22%2C%22Spanish%22%5D%2C%5B%222104818%22%2C%22basketball%22%5D%2C%5B%222109324%22%2C%22sports%22%5D%2C%5B%222009090%22%2C%22basketball%22%5D%2C%5B%221712431%22%2C%22sports%22%5D%2C%5B%221515208%22%2C%22play%22%5D%2C%5B%22401305%22%2C%22game%22%5D%2C%5B%22109339%22%2C%22a%2Fal+in+Spanish%22%5D%2C%5B%2213978%22%2C%22romance+languages%22%5D%2C%5B%2215822%22%2C%22romance+languages%22%5D%2C%5B%221404939%22%2C%22play%22%5D%2C%5B%221915763%22%2C%22sports%22%5D%2C%5B%221812672%22%2C%22basketball%22%5D%2C%5B%221414510%22%2C%22sports%22%5D%2C%5B%22401742%22%2C%22basketball%22%5D%2C%5B%22101173%22%2C%22basketball%22%5D%2C%5B%22411%22%2C%22famous+people+%2F+named+entities%22%5D%2C%5B%222000341%22%2C%22Spanish%22%5D%2C%5B%222303604%22%2C%22sports+%2F+table+tennis+%2F+pool+%22%5D%2C%5B%222413277%22%2C%22%28incomprehensible%29%22%5D%5D&pinnedIds=27_143831_6%2C25_13416_6%2C24_3018_6%2C25_9334_6%2C24_13490_6%2C25_2222_6%2C24_7980_6%2C25_11463_6%2C21_9324_6%2C21_4818_6%2C23_8855_6%2C20_9090_6%2C17_12431_6%2C15_15208_6%2C14_4939_6%2C4_1305_6%2C1_9339_6%2CE_113501_5%2C0_13978_5%2C0_15822_5%2CE_717_6%2C19_15763_6%2C18_12672_6%2C4_1742_4%2C14_14510_4%2C1_1173_4%2CE_18853_4%2CE_7939_3%2C0_411_4%2C20_341_6&supernodes=%5B%5B%22basketball%22%2C%2220_9090_6%22%2C%2218_12672_6%22%2C%2221_4818_6%22%2C%2223_8855_6%22%5D%2C%5B%22sports%22%2C%2217_12431_6%22%2C%2219_15763_6%22%2C%2221_9324_6%22%5D%2C%5B%22play%22%2C%224_1305_6%22%2C%2214_4939_6%22%2C%2215_15208_6%22%5D%2C%5B%22basketball%22%2C%224_1742_4%22%2C%221_1173_4%22%5D%2C%5B%22romance+language%22%2C%221_9339_6%22%2C%220_15822_5%22%2C%220_13978_5%22%5D%2C%5B%22Spanish%22%2C%2225_9334_6%22%2C%2225_13416_6%22%2C%2224_13490_6%22%2C%2224_7980_6%22%2C%2224_3018_6%22%2C%2225_2222_6%22%2C%2225_11463_6%22%2C%2220_341_6%22%5D%5D&clickedId=20_341_6) showing the circuit for the Spanish sentence *Hecho: Michael Jordan juega al*, or in English, *Fact: Michael Jordan plays*. The correct answer, which the model correctly predicts, is *baloncesto*, or *basketball*. We observe a supernode of features that correspond to the Spanish language. Can we intervene on these features to change the model's output?\n",
        "\n",
        "<img src=\"https://raw.githubusercontent.com/safety-research/circuit-tracer/main/demos/img/gemma/mj-basketball-es.png\" width=\"400\">\n",
        "\n",
        "First, we can try to do this by identifying these supernode features, which we store below. For each, we store their layer, position (here, always -1, as all of these features are active at the final position), and feature ID. For the sake of convenience, we'll only add one supernode feature."
      ]
    },
    {
      "cell_type": "code",
      "execution_count": 6,
      "metadata": {
        "id": "l3SztrSog-K3"
      },
      "outputs": [],
      "source": [
        "supernode_features = [\n",
        "    Feature(layer=20,pos=-1,feature_idx=341),\n",
        "]"
      ]
    },
    {
      "cell_type": "markdown",
      "metadata": {
        "id": "9PwPTfobg-K3"
      },
      "source": [
        "Next, we need to turn our supernode features into a list of intervention tuples. These tuples are formatted as (layer, node, feature_idx, new_feature_value). For now, let's try just zeroing out these features at the last position."
      ]
    },
    {
      "cell_type": "code",
      "execution_count": 7,
      "metadata": {
        "id": "ivh-iJNwg-K3"
      },
      "outputs": [],
      "source": [
        "intervention_tuples = [(*supernode_feature, 0.0) for supernode_feature in supernode_features]"
      ]
    },
    {
      "cell_type": "markdown",
      "metadata": {
        "id": "gr2-JOaeg-K3"
      },
      "source": [
        "Finally, we can run the intervention and view its effects on the model's output!"
      ]
    },
    {
      "cell_type": "code",
      "execution_count": 10,
      "metadata": {
        "id": "0PWwzsZCg-K4",
        "outputId": "63fe0232-2430-423a-af3a-394037cea87f",
        "colab": {
          "base_uri": "https://localhost:8080/",
          "height": 442
        }
      },
      "outputs": [
        {
          "output_type": "display_data",
          "data": {
            "text/plain": [
              "<IPython.core.display.HTML object>"
            ],
            "text/html": [
              "\n",
              "    <style>\n",
              "    .token-viz {\n",
              "        font-family: system-ui, -apple-system, BlinkMacSystemFont, 'Segoe UI', Roboto, Oxygen, Ubuntu, Cantarell, sans-serif;\n",
              "        margin-bottom: 10px;\n",
              "        max-width: 700px;\n",
              "    }\n",
              "    .token-viz .header {\n",
              "        font-weight: bold;\n",
              "        font-size: 14px;\n",
              "        margin-bottom: 3px;\n",
              "        padding: 4px 6px;\n",
              "        border-radius: 3px;\n",
              "        color: white;\n",
              "        display: inline-block;\n",
              "    }\n",
              "    .token-viz .sentence {\n",
              "        background-color: rgba(200, 200, 200, 0.2);\n",
              "        padding: 4px 6px;\n",
              "        border-radius: 3px;\n",
              "        border: 1px solid rgba(100, 100, 100, 0.5);\n",
              "        font-family: monospace;\n",
              "        margin-bottom: 8px;\n",
              "        font-weight: 500;\n",
              "        font-size: 14px;\n",
              "    }\n",
              "    .token-viz table {\n",
              "        width: 100%;\n",
              "        border-collapse: collapse;\n",
              "        margin-bottom: 8px;\n",
              "        font-size: 13px;\n",
              "        table-layout: fixed;\n",
              "    }\n",
              "    .token-viz th {\n",
              "        text-align: left;\n",
              "        padding: 4px 6px;\n",
              "        font-weight: bold;\n",
              "        border: 1px solid rgba(150, 150, 150, 0.5);\n",
              "        background-color: rgba(200, 200, 200, 0.3);\n",
              "    }\n",
              "    .token-viz td {\n",
              "        padding: 3px 6px;\n",
              "        border: 1px solid rgba(150, 150, 150, 0.5);\n",
              "        font-weight: 500;\n",
              "        overflow: hidden;\n",
              "        text-overflow: ellipsis;\n",
              "        white-space: nowrap;\n",
              "    }\n",
              "    .token-viz .token-col {\n",
              "        width: 20%;\n",
              "    }\n",
              "    .token-viz .prob-col {\n",
              "        width: 15%;\n",
              "    }\n",
              "    .token-viz .dist-col {\n",
              "        width: 65%;\n",
              "    }\n",
              "    .token-viz .monospace {\n",
              "        font-family: monospace;\n",
              "    }\n",
              "    .token-viz .bar-container {\n",
              "        display: flex;\n",
              "        align-items: center;\n",
              "    }\n",
              "    .token-viz .bar {\n",
              "        height: 12px;\n",
              "        min-width: 2px;\n",
              "    }\n",
              "    .token-viz .bar-text {\n",
              "        margin-left: 6px;\n",
              "        font-weight: 500;\n",
              "        font-size: 12px;\n",
              "    }\n",
              "    .token-viz .even-row {\n",
              "        background-color: rgba(240, 240, 240, 0.1);\n",
              "    }\n",
              "    .token-viz .odd-row {\n",
              "        background-color: rgba(255, 255, 255, 0.1);\n",
              "    }\n",
              "    </style>\n",
              "    \n",
              "    <div class=\"token-viz\">\n",
              "        <div class=\"header\" style=\"background-color: #555555;\">Input Sentence:</div>\n",
              "        <div class=\"sentence\">The sky is blue, so today is </div>\n",
              "        \n",
              "        <div>\n",
              "            <div class=\"header\" style=\"background-color: #2471A3;\">Original Top 5 Tokens</div>\n",
              "            <table>\n",
              "                <thead>\n",
              "                    <tr>\n",
              "                        <th class=\"token-col\">Token</th>\n",
              "                        <th class=\"prob-col\" style=\"text-align: right;\">Probability</th>\n",
              "                        <th class=\"dist-col\">Distribution</th>\n",
              "                    </tr>\n",
              "                </thead>\n",
              "                <tbody>\n",
              "    \n",
              "                    <tr class=\"even-row\">\n",
              "                        <td class=\"monospace token-col\" title=\"<strong>\"><strong></td>\n",
              "                        <td class=\"prob-col\" style=\"text-align: right;\">0.254</td>\n",
              "                        <td class=\"dist-col\">\n",
              "                            <div class=\"bar-container\">\n",
              "                                <div class=\"bar\" style=\"background-color: #2471A3; width: 100%;\"></div>\n",
              "                                <span class=\"bar-text\">25.4%</span>\n",
              "                            </div>\n",
              "                        </td>\n",
              "                    </tr>\n",
              "        \n",
              "                    <tr class=\"odd-row\">\n",
              "                        <td class=\"monospace token-col\" title=\"<em>\"><em></td>\n",
              "                        <td class=\"prob-col\" style=\"text-align: right;\">0.136</td>\n",
              "                        <td class=\"dist-col\">\n",
              "                            <div class=\"bar-container\">\n",
              "                                <div class=\"bar\" style=\"background-color: #2471A3; width: 53%;\"></div>\n",
              "                                <span class=\"bar-text\">13.6%</span>\n",
              "                            </div>\n",
              "                        </td>\n",
              "                    </tr>\n",
              "        \n",
              "                    <tr class=\"even-row\">\n",
              "                        <td class=\"monospace token-col\" title=\"<b>\"><b></td>\n",
              "                        <td class=\"prob-col\" style=\"text-align: right;\">0.120</td>\n",
              "                        <td class=\"dist-col\">\n",
              "                            <div class=\"bar-container\">\n",
              "                                <div class=\"bar\" style=\"background-color: #2471A3; width: 47%;\"></div>\n",
              "                                <span class=\"bar-text\">12.0%</span>\n",
              "                            </div>\n",
              "                        </td>\n",
              "                    </tr>\n",
              "        \n",
              "                    <tr class=\"odd-row\">\n",
              "                        <td class=\"monospace token-col\" title=\"1\">1</td>\n",
              "                        <td class=\"prob-col\" style=\"text-align: right;\">0.120</td>\n",
              "                        <td class=\"dist-col\">\n",
              "                            <div class=\"bar-container\">\n",
              "                                <div class=\"bar\" style=\"background-color: #2471A3; width: 47%;\"></div>\n",
              "                                <span class=\"bar-text\">12.0%</span>\n",
              "                            </div>\n",
              "                        </td>\n",
              "                    </tr>\n",
              "        \n",
              "                    <tr class=\"even-row\">\n",
              "                        <td class=\"monospace token-col\" title=\"2\">2</td>\n",
              "                        <td class=\"prob-col\" style=\"text-align: right;\">0.073</td>\n",
              "                        <td class=\"dist-col\">\n",
              "                            <div class=\"bar-container\">\n",
              "                                <div class=\"bar\" style=\"background-color: #2471A3; width: 28%;\"></div>\n",
              "                                <span class=\"bar-text\">7.3%</span>\n",
              "                            </div>\n",
              "                        </td>\n",
              "                    </tr>\n",
              "        \n",
              "                </tbody>\n",
              "            </table>\n",
              "            \n",
              "            <div class=\"header\" style=\"background-color: #27AE60;\">New Top 5 Tokens</div>\n",
              "            <table>\n",
              "                <thead>\n",
              "                    <tr>\n",
              "                        <th class=\"token-col\">Token</th>\n",
              "                        <th class=\"prob-col\" style=\"text-align: right;\">Probability</th>\n",
              "                        <th class=\"dist-col\">Distribution</th>\n",
              "                    </tr>\n",
              "                </thead>\n",
              "                <tbody>\n",
              "    \n",
              "                    <tr class=\"even-row\">\n",
              "                        <td class=\"monospace token-col\" title=\"<strong>\"><strong></td>\n",
              "                        <td class=\"prob-col\" style=\"text-align: right;\">0.254</td>\n",
              "                        <td class=\"dist-col\">\n",
              "                            <div class=\"bar-container\">\n",
              "                                <div class=\"bar\" style=\"background-color: #27AE60; width: 100%;\"></div>\n",
              "                                <span class=\"bar-text\">25.4%</span>\n",
              "                            </div>\n",
              "                        </td>\n",
              "                    </tr>\n",
              "        \n",
              "                    <tr class=\"odd-row\">\n",
              "                        <td class=\"monospace token-col\" title=\"<em>\"><em></td>\n",
              "                        <td class=\"prob-col\" style=\"text-align: right;\">0.136</td>\n",
              "                        <td class=\"dist-col\">\n",
              "                            <div class=\"bar-container\">\n",
              "                                <div class=\"bar\" style=\"background-color: #27AE60; width: 53%;\"></div>\n",
              "                                <span class=\"bar-text\">13.6%</span>\n",
              "                            </div>\n",
              "                        </td>\n",
              "                    </tr>\n",
              "        \n",
              "                    <tr class=\"even-row\">\n",
              "                        <td class=\"monospace token-col\" title=\"<b>\"><b></td>\n",
              "                        <td class=\"prob-col\" style=\"text-align: right;\">0.120</td>\n",
              "                        <td class=\"dist-col\">\n",
              "                            <div class=\"bar-container\">\n",
              "                                <div class=\"bar\" style=\"background-color: #27AE60; width: 47%;\"></div>\n",
              "                                <span class=\"bar-text\">12.0%</span>\n",
              "                            </div>\n",
              "                        </td>\n",
              "                    </tr>\n",
              "        \n",
              "                    <tr class=\"odd-row\">\n",
              "                        <td class=\"monospace token-col\" title=\"1\">1</td>\n",
              "                        <td class=\"prob-col\" style=\"text-align: right;\">0.120</td>\n",
              "                        <td class=\"dist-col\">\n",
              "                            <div class=\"bar-container\">\n",
              "                                <div class=\"bar\" style=\"background-color: #27AE60; width: 47%;\"></div>\n",
              "                                <span class=\"bar-text\">12.0%</span>\n",
              "                            </div>\n",
              "                        </td>\n",
              "                    </tr>\n",
              "        \n",
              "                    <tr class=\"even-row\">\n",
              "                        <td class=\"monospace token-col\" title=\"2\">2</td>\n",
              "                        <td class=\"prob-col\" style=\"text-align: right;\">0.073</td>\n",
              "                        <td class=\"dist-col\">\n",
              "                            <div class=\"bar-container\">\n",
              "                                <div class=\"bar\" style=\"background-color: #27AE60; width: 28%;\"></div>\n",
              "                                <span class=\"bar-text\">7.3%</span>\n",
              "                            </div>\n",
              "                        </td>\n",
              "                    </tr>\n",
              "        \n",
              "                </tbody>\n",
              "            </table>\n",
              "        </div>\n",
              "    </div>\n",
              "    "
            ]
          },
          "metadata": {}
        }
      ],
      "source": [
        "s = \"The sky is blue, so today is \"\n",
        "\n",
        "with torch.inference_mode():\n",
        "    original_logits = model(s)\n",
        "    new_logits, _ = model.feature_intervention(s, intervention_tuples)\n",
        "\n",
        "display_topk_token_predictions(s, original_logits, new_logits)"
      ]
    },
    {
      "cell_type": "markdown",
      "metadata": {
        "id": "QLTisFByg-K4"
      },
      "source": [
        "That wasn't very effective! We do see that the probability of *basketball* has risen, bringing it into the top 5. But intervening on just one feature isn't enough to change the model's behavior dramatically; the rest of the distribution remains more or less the same. This is because many Spanish features contribute to our model's output language, while we have changed only one. Try changing more!"
      ]
    },
    {
      "cell_type": "markdown",
      "metadata": {
        "id": "01JnRmbJg-K4"
      },
      "source": [
        "## Example: Swapping languages by turning features on\n",
        "\n",
        "In the last example, we only turned Spanish features off, yielding text in English, which seems to be the model's default. But what if we wanted to swap to another language?\n",
        "Then we'd have to turn language features from that language on. Let's try this with another language, French. Here is the attribution graph for the analogous French sentence, [`Fait: Michael Jordan joue au` →`basket`](https://www.neuronpedia.org/gemma-2-2b/graph?slug=gemma-basket&clickedId=17_10566_2&clerps=%5B%5B%222308855%22%2C%22basketball%22%5D%2C%5B%222502222%22%2C%22Spanish+articles%22%5D%2C%5B%222513416%22%2C%22Spanish%22%5D%2C%5B%222104818%22%2C%22basketball%22%5D%2C%5B%222109324%22%2C%22sports%22%5D%2C%5B%222009090%22%2C%22basketball%22%5D%2C%5B%221712431%22%2C%22sports%22%5D%2C%5B%221515208%22%2C%22play%22%5D%2C%5B%22401305%22%2C%22game%22%5D%2C%5B%2213978%22%2C%22romance+languages%22%5D%2C%5B%2215822%22%2C%22romance+languages%22%5D%2C%5B%221404939%22%2C%22play%22%5D%2C%5B%221915763%22%2C%22sports%22%5D%2C%5B%221812672%22%2C%22basketball%22%5D%2C%5B%221414510%22%2C%22sports%22%5D%2C%5B%22401742%22%2C%22basketball%22%5D%2C%5B%22101173%22%2C%22basketball%22%5D%2C%5B%22411%22%2C%22famous+people+%2F+named+entities%22%5D%2C%5B%221710566%22%2C%22French%22%5D%5D&pinnedIds=27_12220_7%2CE_18853_5%2C21_4818_7%2C21_9324_7%2C23_3604_7%2C25_14882_7%2C24_15306_7%2C23_15317_7%2C20_9090_7%2C24_3329_7%2C19_15763_7%2C18_12672_7%2C17_12431_7%2C17_5253_7%2C15_15208_7%2C14_4939_7%2C6_7377_7%2CE_78224_6%2C4_1305_7%2C3_305_7%2C24_2086_7%2C24_3772_7%2C21_16354_7%2C20_1454_7%2C23_2592_7%2C22_10566_7%2C23_2554_7%2C17_10566_6%2C0_4076_6%2C14_14575_6%2C7_11689_6%2C4_1742_5%2C1_1173_5%2CE_7939_4&supernodes=%5B%5B%22game%2Fplay%22%2C%223_305_7%22%2C%224_1305_7%22%2C%226_7377_7%22%2C%2215_15208_7%22%2C%2214_4939_7%22%5D%2C%5B%22French%22%2C%220_4076_6%22%2C%227_11689_6%22%2C%2214_14575_6%22%2C%2217_10566_6%22%5D%2C%5B%22basketball%22%2C%2221_4818_7%22%2C%2218_12672_7%22%5D%2C%5B%22sports%22%2C%2217_12431_7%22%2C%2217_5253_7%22%2C%2221_9324_7%22%2C%2220_9090_7%22%2C%2219_15763_7%22%2C%2223_3604_7%22%2C%2223_15317_7%22%5D%2C%5B%22basketball%22%2C%224_1742_5%22%2C%221_1173_5%22%5D%2C%5B%22French%22%2C%2224_3329_7%22%2C%2221_16354_7%22%2C%2220_1454_7%22%2C%2223_2592_7%22%2C%2223_2554_7%22%2C%2224_2086_7%22%2C%2224_15306_7%22%2C%2225_14882_7%22%2C%2224_3772_7%22%2C%2222_10566_7%22%5D%5D).\n",
        "\n",
        "<img src=\"https://raw.githubusercontent.com/safety-research/circuit-tracer/main/demos/img/gemma/mj-basketball-fr.png\" width=\"400\">\n",
        "\n",
        "The answer to the French query is \"basket\". Can we change that to Spanish? We start by taking one relatively low-level French feature, that feeds into all of the others."
      ]
    },
    {
      "cell_type": "code",
      "execution_count": null,
      "metadata": {
        "id": "Jh7EcApIg-K4"
      },
      "outputs": [],
      "source": [
        "french_supernode_features = [Feature(layer=20,pos=-1,feature_idx=1454)]"
      ]
    },
    {
      "cell_type": "markdown",
      "metadata": {
        "id": "s0RfW_olg-K4"
      },
      "source": [
        "But what should we set the values of the French supernode features to be? Ideally, we set them to some in-distribution values. To do this, we can get the activations of these nodes on the French input sentence. We'll get these as a sparse tensor, to save on memory."
      ]
    },
    {
      "cell_type": "code",
      "execution_count": null,
      "metadata": {
        "id": "ZOLPEt3wg-K4"
      },
      "outputs": [],
      "source": [
        "s_spanish = \"Hecho: Michael Jordan juega al\"\n",
        "_, activations = model.get_activations(s_spanish, sparse=True)"
      ]
    },
    {
      "cell_type": "markdown",
      "metadata": {
        "id": "f4P3LPJLg-K4"
      },
      "source": [
        "Now, we construct and perform the intervention! Each supernode_feature contains precisely the information needed to index into `activations`."
      ]
    },
    {
      "cell_type": "code",
      "execution_count": null,
      "metadata": {
        "id": "85wS5W_dg-K4"
      },
      "outputs": [],
      "source": [
        "spanish_supernode_features = supernode_features  # from before\n",
        "fr_es_intervention_tuples = [(*supernode_feature, 0.0) for supernode_feature in french_supernode_features]\n",
        "fr_es_intervention_tuples+= [(*supernode_feature, 10*activations[supernode_feature]) for (supernode_feature) in spanish_supernode_features]"
      ]
    },
    {
      "cell_type": "code",
      "execution_count": null,
      "metadata": {
        "id": "SkpxjKjlg-K4",
        "outputId": "154f4cb0-eede-458c-8800-3957df1a0c1d"
      },
      "outputs": [
        {
          "data": {
            "text/html": [
              "\n",
              "    <style>\n",
              "    .token-viz {\n",
              "        font-family: system-ui, -apple-system, BlinkMacSystemFont, 'Segoe UI', Roboto, Oxygen, Ubuntu, Cantarell, sans-serif;\n",
              "        margin-bottom: 10px;\n",
              "        max-width: 700px;\n",
              "    }\n",
              "    .token-viz .header {\n",
              "        font-weight: bold;\n",
              "        font-size: 14px;\n",
              "        margin-bottom: 3px;\n",
              "        padding: 4px 6px;\n",
              "        border-radius: 3px;\n",
              "        color: white;\n",
              "        display: inline-block;\n",
              "    }\n",
              "    .token-viz .sentence {\n",
              "        background-color: rgba(200, 200, 200, 0.2);\n",
              "        padding: 4px 6px;\n",
              "        border-radius: 3px;\n",
              "        border: 1px solid rgba(100, 100, 100, 0.5);\n",
              "        font-family: monospace;\n",
              "        margin-bottom: 8px;\n",
              "        font-weight: 500;\n",
              "        font-size: 14px;\n",
              "    }\n",
              "    .token-viz table {\n",
              "        width: 100%;\n",
              "        border-collapse: collapse;\n",
              "        margin-bottom: 8px;\n",
              "        font-size: 13px;\n",
              "        table-layout: fixed;\n",
              "    }\n",
              "    .token-viz th {\n",
              "        text-align: left;\n",
              "        padding: 4px 6px;\n",
              "        font-weight: bold;\n",
              "        border: 1px solid rgba(150, 150, 150, 0.5);\n",
              "        background-color: rgba(200, 200, 200, 0.3);\n",
              "    }\n",
              "    .token-viz td {\n",
              "        padding: 3px 6px;\n",
              "        border: 1px solid rgba(150, 150, 150, 0.5);\n",
              "        font-weight: 500;\n",
              "        overflow: hidden;\n",
              "        text-overflow: ellipsis;\n",
              "        white-space: nowrap;\n",
              "    }\n",
              "    .token-viz .token-col {\n",
              "        width: 20%;\n",
              "    }\n",
              "    .token-viz .prob-col {\n",
              "        width: 15%;\n",
              "    }\n",
              "    .token-viz .dist-col {\n",
              "        width: 65%;\n",
              "    }\n",
              "    .token-viz .monospace {\n",
              "        font-family: monospace;\n",
              "    }\n",
              "    .token-viz .bar-container {\n",
              "        display: flex;\n",
              "        align-items: center;\n",
              "    }\n",
              "    .token-viz .bar {\n",
              "        height: 12px;\n",
              "        min-width: 2px;\n",
              "    }\n",
              "    .token-viz .bar-text {\n",
              "        margin-left: 6px;\n",
              "        font-weight: 500;\n",
              "        font-size: 12px;\n",
              "    }\n",
              "    .token-viz .even-row {\n",
              "        background-color: rgba(240, 240, 240, 0.1);\n",
              "    }\n",
              "    .token-viz .odd-row {\n",
              "        background-color: rgba(255, 255, 255, 0.1);\n",
              "    }\n",
              "    </style>\n",
              "    \n",
              "    <div class=\"token-viz\">\n",
              "        <div class=\"header\" style=\"background-color: #555555;\">Input Sentence:</div>\n",
              "        <div class=\"sentence\">Fait: Michael Jordan joue au</div>\n",
              "        \n",
              "        <div>\n",
              "            <div class=\"header\" style=\"background-color: #2471A3;\">Original Top 5 Tokens</div>\n",
              "            <table>\n",
              "                <thead>\n",
              "                    <tr>\n",
              "                        <th class=\"token-col\">Token</th>\n",
              "                        <th class=\"prob-col\" style=\"text-align: right;\">Probability</th>\n",
              "                        <th class=\"dist-col\">Distribution</th>\n",
              "                    </tr>\n",
              "                </thead>\n",
              "                <tbody>\n",
              "    \n",
              "                    <tr class=\"even-row\">\n",
              "                        <td class=\"monospace token-col\" title=\" basket\"> basket</td>\n",
              "                        <td class=\"prob-col\" style=\"text-align: right;\">0.547</td>\n",
              "                        <td class=\"dist-col\">\n",
              "                            <div class=\"bar-container\">\n",
              "                                <div class=\"bar\" style=\"background-color: #2471A3; width: 100%;\"></div>\n",
              "                                <span class=\"bar-text\">54.7%</span>\n",
              "                            </div>\n",
              "                        </td>\n",
              "                    </tr>\n",
              "        \n",
              "                    <tr class=\"odd-row\">\n",
              "                        <td class=\"monospace token-col\" title=\" basketball\"> basketball</td>\n",
              "                        <td class=\"prob-col\" style=\"text-align: right;\">0.117</td>\n",
              "                        <td class=\"dist-col\">\n",
              "                            <div class=\"bar-container\">\n",
              "                                <div class=\"bar\" style=\"background-color: #2471A3; width: 21%;\"></div>\n",
              "                                <span class=\"bar-text\">11.7%</span>\n",
              "                            </div>\n",
              "                        </td>\n",
              "                    </tr>\n",
              "        \n",
              "                    <tr class=\"even-row\">\n",
              "                        <td class=\"monospace token-col\" title=\" golf\"> golf</td>\n",
              "                        <td class=\"prob-col\" style=\"text-align: right;\">0.065</td>\n",
              "                        <td class=\"dist-col\">\n",
              "                            <div class=\"bar-container\">\n",
              "                                <div class=\"bar\" style=\"background-color: #2471A3; width: 11%;\"></div>\n",
              "                                <span class=\"bar-text\">6.5%</span>\n",
              "                            </div>\n",
              "                        </td>\n",
              "                    </tr>\n",
              "        \n",
              "                    <tr class=\"odd-row\">\n",
              "                        <td class=\"monospace token-col\" title=\" baseball\"> baseball</td>\n",
              "                        <td class=\"prob-col\" style=\"text-align: right;\">0.044</td>\n",
              "                        <td class=\"dist-col\">\n",
              "                            <div class=\"bar-container\">\n",
              "                                <div class=\"bar\" style=\"background-color: #2471A3; width: 8%;\"></div>\n",
              "                                <span class=\"bar-text\">4.4%</span>\n",
              "                            </div>\n",
              "                        </td>\n",
              "                    </tr>\n",
              "        \n",
              "                    <tr class=\"even-row\">\n",
              "                        <td class=\"monospace token-col\" title=\" football\"> football</td>\n",
              "                        <td class=\"prob-col\" style=\"text-align: right;\">0.033</td>\n",
              "                        <td class=\"dist-col\">\n",
              "                            <div class=\"bar-container\">\n",
              "                                <div class=\"bar\" style=\"background-color: #2471A3; width: 5%;\"></div>\n",
              "                                <span class=\"bar-text\">3.3%</span>\n",
              "                            </div>\n",
              "                        </td>\n",
              "                    </tr>\n",
              "        \n",
              "                </tbody>\n",
              "            </table>\n",
              "            \n",
              "            <div class=\"header\" style=\"background-color: #27AE60;\">New Top 5 Tokens</div>\n",
              "            <table>\n",
              "                <thead>\n",
              "                    <tr>\n",
              "                        <th class=\"token-col\">Token</th>\n",
              "                        <th class=\"prob-col\" style=\"text-align: right;\">Probability</th>\n",
              "                        <th class=\"dist-col\">Distribution</th>\n",
              "                    </tr>\n",
              "                </thead>\n",
              "                <tbody>\n",
              "    \n",
              "                    <tr class=\"even-row\">\n",
              "                        <td class=\"monospace token-col\" title=\" baloncesto\"> baloncesto</td>\n",
              "                        <td class=\"prob-col\" style=\"text-align: right;\">0.277</td>\n",
              "                        <td class=\"dist-col\">\n",
              "                            <div class=\"bar-container\">\n",
              "                                <div class=\"bar\" style=\"background-color: #27AE60; width: 50%;\"></div>\n",
              "                                <span class=\"bar-text\">27.7%</span>\n",
              "                            </div>\n",
              "                        </td>\n",
              "                    </tr>\n",
              "        \n",
              "                    <tr class=\"odd-row\">\n",
              "                        <td class=\"monospace token-col\" title=\" golf\"> golf</td>\n",
              "                        <td class=\"prob-col\" style=\"text-align: right;\">0.194</td>\n",
              "                        <td class=\"dist-col\">\n",
              "                            <div class=\"bar-container\">\n",
              "                                <div class=\"bar\" style=\"background-color: #27AE60; width: 35%;\"></div>\n",
              "                                <span class=\"bar-text\">19.4%</span>\n",
              "                            </div>\n",
              "                        </td>\n",
              "                    </tr>\n",
              "        \n",
              "                    <tr class=\"even-row\">\n",
              "                        <td class=\"monospace token-col\" title=\" fútbol\"> fútbol</td>\n",
              "                        <td class=\"prob-col\" style=\"text-align: right;\">0.057</td>\n",
              "                        <td class=\"dist-col\">\n",
              "                            <div class=\"bar-container\">\n",
              "                                <div class=\"bar\" style=\"background-color: #27AE60; width: 10%;\"></div>\n",
              "                                <span class=\"bar-text\">5.7%</span>\n",
              "                            </div>\n",
              "                        </td>\n",
              "                    </tr>\n",
              "        \n",
              "                    <tr class=\"odd-row\">\n",
              "                        <td class=\"monospace token-col\" title=\" basketball\"> basketball</td>\n",
              "                        <td class=\"prob-col\" style=\"text-align: right;\">0.047</td>\n",
              "                        <td class=\"dist-col\">\n",
              "                            <div class=\"bar-container\">\n",
              "                                <div class=\"bar\" style=\"background-color: #27AE60; width: 8%;\"></div>\n",
              "                                <span class=\"bar-text\">4.7%</span>\n",
              "                            </div>\n",
              "                        </td>\n",
              "                    </tr>\n",
              "        \n",
              "                    <tr class=\"even-row\">\n",
              "                        <td class=\"monospace token-col\" title=\" béisbol\"> béisbol</td>\n",
              "                        <td class=\"prob-col\" style=\"text-align: right;\">0.045</td>\n",
              "                        <td class=\"dist-col\">\n",
              "                            <div class=\"bar-container\">\n",
              "                                <div class=\"bar\" style=\"background-color: #27AE60; width: 8%;\"></div>\n",
              "                                <span class=\"bar-text\">4.5%</span>\n",
              "                            </div>\n",
              "                        </td>\n",
              "                    </tr>\n",
              "        \n",
              "                </tbody>\n",
              "            </table>\n",
              "        </div>\n",
              "    </div>\n",
              "    "
            ],
            "text/plain": [
              "<IPython.core.display.HTML object>"
            ]
          },
          "metadata": {},
          "output_type": "display_data"
        }
      ],
      "source": [
        "s_french = \"Fait: Michael Jordan joue au\"\n",
        "\n",
        "with torch.inference_mode():\n",
        "    original_logits = model(s_french)\n",
        "    new_logits, _ = model.feature_intervention(s_french, fr_es_intervention_tuples)\n",
        "\n",
        "display_topk_token_predictions(s_french, original_logits, new_logits)"
      ]
    },
    {
      "cell_type": "markdown",
      "metadata": {
        "id": "m5phmQvxg-K5"
      },
      "source": [
        "## Example: Interventions + Sampling\n",
        "We've now intervened twice on the last token of the sentence; interventions on other positions work analogously. But what if we want to intervene in an open-ended fashion, allowing our model to generate tokens with that intervention still active? We can do this as follows, by setting the position of our intervention to an open-ended slice: `slice(pos, None, None)`. We set `pos` to be the last token of the original input, but you can also set it to an earlier position."
      ]
    },
    {
      "cell_type": "code",
      "execution_count": null,
      "metadata": {
        "id": "vQzBjxoAg-K5"
      },
      "outputs": [],
      "source": [
        "sequence_length = len(model.tokenizer(s_spanish).input_ids)\n",
        "original_feature_pos = sequence_length - 1\n",
        "open_ended_slice = slice(original_feature_pos, None, None)\n",
        "open_ended_es_fr_intervention_tuples = [(layer, open_ended_slice, feature_idx, 0.0) for (layer, _, feature_idx) in spanish_supernode_features]\n",
        "open_ended_es_fr_intervention_tuples+= [(layer, open_ended_slice, feature_idx, 10*activations[layer, orig_pos, feature_idx]) for (layer, orig_pos, feature_idx) in spanish_supernode_features]"
      ]
    },
    {
      "cell_type": "markdown",
      "metadata": {
        "id": "DUxC2_OQg-K5"
      },
      "source": [
        "Now, we just get the necessary hooks by calling `model._get_feature_intervention_hooks`, and use those hooks to generate! Make sure to set `use_past_kv_cache` to false, otherwise the model will attempt to generate using the KV cache + length=1 inputs; this is more efficient, but makes interventions hard. `do_sample` is off here for consistency, but you can turn it on as well."
      ]
    },
    {
      "cell_type": "code",
      "execution_count": null,
      "metadata": {
        "id": "9VMdqAOwg-K5",
        "outputId": "e913aa07-2f3f-47df-b13d-baac01bfaa05"
      },
      "outputs": [
        {
          "data": {
            "text/html": [
              "\n",
              "    <style>\n",
              "    .generations-viz {\n",
              "        font-family: system-ui, -apple-system, BlinkMacSystemFont, 'Segoe UI', Roboto, Oxygen, Ubuntu, Cantarell, sans-serif;\n",
              "        margin-bottom: 12px;\n",
              "        font-size: 13px;\n",
              "        max-width: 700px;\n",
              "    }\n",
              "    .generations-viz .section-header {\n",
              "        font-weight: bold;\n",
              "        font-size: 14px;\n",
              "        margin: 10px 0 5px 0;\n",
              "        padding: 4px 6px;\n",
              "        border-radius: 3px;\n",
              "        color: white;\n",
              "        display: block;\n",
              "    }\n",
              "    .generations-viz .pre-intervention-header {\n",
              "        background-color: #2471A3;\n",
              "    }\n",
              "    .generations-viz .post-intervention-header {\n",
              "        background-color: #27AE60;\n",
              "    }\n",
              "    .generations-viz .generation-container {\n",
              "        margin-bottom: 8px;\n",
              "        padding: 3px;\n",
              "        border-left: 3px solid rgba(100, 100, 100, 0.5);\n",
              "    }\n",
              "    .generations-viz .generation-text {\n",
              "        background-color: rgba(200, 200, 200, 0.2);\n",
              "        padding: 6px 8px;\n",
              "        border-radius: 3px;\n",
              "        border: 1px solid rgba(100, 100, 100, 0.5);\n",
              "        font-family: monospace;\n",
              "        font-weight: 500;\n",
              "        white-space: pre-wrap;\n",
              "        line-height: 1.2;\n",
              "        font-size: 13px;\n",
              "        overflow-x: auto;\n",
              "    }\n",
              "    .generations-viz .base-text {\n",
              "        color: rgba(100, 100, 100, 0.9);\n",
              "    }\n",
              "    .generations-viz .new-text {\n",
              "        background-color: rgba(255, 255, 0, 0.25);\n",
              "        font-weight: bold;\n",
              "        padding: 1px 0;\n",
              "        border-radius: 2px;\n",
              "    }\n",
              "    .generations-viz .pre-intervention-item {\n",
              "        border-left-color: #2471A3;\n",
              "    }\n",
              "    .generations-viz .post-intervention-item {\n",
              "        border-left-color: #27AE60;\n",
              "    }\n",
              "    .generations-viz .generation-number {\n",
              "        font-weight: bold;\n",
              "        margin-bottom: 3px;\n",
              "        color: rgba(70, 70, 70, 0.9);\n",
              "        font-size: 12px;\n",
              "    }\n",
              "    </style>\n",
              "    \n",
              "    <div class=\"generations-viz\">\n",
              "    \n",
              "    <div class=\"section-header pre-intervention-header\">Pre-intervention generations:</div>\n",
              "    \n",
              "        <div class=\"generation-container pre-intervention-item\">\n",
              "            <div class=\"generation-number\">Generation 1</div>\n",
              "            <div class=\"generation-text\"><span class=\"base-text\">Fait: Michael Jordan joue au</span><span class=\"new-text\"> basket avec son fils, Jeffrey Jordan, à la</span></div>\n",
              "        </div>\n",
              "        \n",
              "    <div class=\"section-header post-intervention-header\">Post-intervention generations:</div>\n",
              "    \n",
              "        <div class=\"generation-container post-intervention-item\">\n",
              "            <div class=\"generation-number\">Generation 1</div>\n",
              "            <div class=\"generation-text\"><span class=\"base-text\">Fait: Michael Jordan joue au</span><span class=\"new-text\"> baloncesto.\n",
              "\n",
              "Fato: Michael Jordan es un</span></div>\n",
              "        </div>\n",
              "        \n",
              "    </div>\n",
              "    "
            ],
            "text/plain": [
              "<IPython.core.display.HTML object>"
            ]
          },
          "metadata": {},
          "output_type": "display_data"
        }
      ],
      "source": [
        "hooks, _ = model._get_feature_intervention_hooks(s_french, open_ended_es_fr_intervention_tuples, freeze_attention=False)\n",
        "pre_intervention_generation = [model.generate(s_french, do_sample=False, use_past_kv_cache=False, verbose=False)]\n",
        "with model.hooks(hooks):\n",
        "    post_intervention_generation = [model.generate(s_french, do_sample=False, use_past_kv_cache=False, verbose=False)]\n",
        "\n",
        "display_generations_comparison(s_french, pre_intervention_generation, post_intervention_generation)"
      ]
    }
  ],
  "metadata": {
    "kernelspec": {
      "display_name": "Python 3",
      "name": "python3"
    },
    "language_info": {
      "codemirror_mode": {
        "name": "ipython",
        "version": 3
      },
      "file_extension": ".py",
      "mimetype": "text/x-python",
      "name": "python",
      "nbconvert_exporter": "python",
      "pygments_lexer": "ipython3",
      "version": "3.11.11"
    },
    "colab": {
      "provenance": [],
      "machine_shape": "hm",
      "gpuType": "L4",
      "include_colab_link": true
    },
    "accelerator": "GPU",
    "widgets": {
      "application/vnd.jupyter.widget-state+json": {
        "f661189ecc414dfeb94e86ee2f7340d5": {
          "model_module": "@jupyter-widgets/controls",
          "model_name": "HBoxModel",
          "model_module_version": "1.5.0",
          "state": {
            "_dom_classes": [],
            "_model_module": "@jupyter-widgets/controls",
            "_model_module_version": "1.5.0",
            "_model_name": "HBoxModel",
            "_view_count": null,
            "_view_module": "@jupyter-widgets/controls",
            "_view_module_version": "1.5.0",
            "_view_name": "HBoxView",
            "box_style": "",
            "children": [
              "IPY_MODEL_28be077904f0439ca608ebec6e9a53b0",
              "IPY_MODEL_0a8e76c86a254fbeac55160302ea4fea",
              "IPY_MODEL_e0ce4a7d3a3943beb0a9856947683f16"
            ],
            "layout": "IPY_MODEL_da399adcb68a4e47b46a6f52fc7b3a5f"
          }
        },
        "28be077904f0439ca608ebec6e9a53b0": {
          "model_module": "@jupyter-widgets/controls",
          "model_name": "HTMLModel",
          "model_module_version": "1.5.0",
          "state": {
            "_dom_classes": [],
            "_model_module": "@jupyter-widgets/controls",
            "_model_module_version": "1.5.0",
            "_model_name": "HTMLModel",
            "_view_count": null,
            "_view_module": "@jupyter-widgets/controls",
            "_view_module_version": "1.5.0",
            "_view_name": "HTMLView",
            "description": "",
            "description_tooltip": null,
            "layout": "IPY_MODEL_98702a490d2b449e959755c142cb562a",
            "placeholder": "​",
            "style": "IPY_MODEL_b06f4afc09d84f509042d15792dbf52c",
            "value": "Fetching 26 files: 100%"
          }
        },
        "0a8e76c86a254fbeac55160302ea4fea": {
          "model_module": "@jupyter-widgets/controls",
          "model_name": "FloatProgressModel",
          "model_module_version": "1.5.0",
          "state": {
            "_dom_classes": [],
            "_model_module": "@jupyter-widgets/controls",
            "_model_module_version": "1.5.0",
            "_model_name": "FloatProgressModel",
            "_view_count": null,
            "_view_module": "@jupyter-widgets/controls",
            "_view_module_version": "1.5.0",
            "_view_name": "ProgressView",
            "bar_style": "success",
            "description": "",
            "description_tooltip": null,
            "layout": "IPY_MODEL_4852831486524357b29fc6eb6d9dfa16",
            "max": 26,
            "min": 0,
            "orientation": "horizontal",
            "style": "IPY_MODEL_eeb85779eb06479abfd3b8e2646c0cb5",
            "value": 26
          }
        },
        "e0ce4a7d3a3943beb0a9856947683f16": {
          "model_module": "@jupyter-widgets/controls",
          "model_name": "HTMLModel",
          "model_module_version": "1.5.0",
          "state": {
            "_dom_classes": [],
            "_model_module": "@jupyter-widgets/controls",
            "_model_module_version": "1.5.0",
            "_model_name": "HTMLModel",
            "_view_count": null,
            "_view_module": "@jupyter-widgets/controls",
            "_view_module_version": "1.5.0",
            "_view_name": "HTMLView",
            "description": "",
            "description_tooltip": null,
            "layout": "IPY_MODEL_e704c7bc842243afbafc58d2bb73644a",
            "placeholder": "​",
            "style": "IPY_MODEL_3dbae81cb603492eacbf87e260c86401",
            "value": " 26/26 [00:01&lt;00:00, 16.54it/s]"
          }
        },
        "da399adcb68a4e47b46a6f52fc7b3a5f": {
          "model_module": "@jupyter-widgets/base",
          "model_name": "LayoutModel",
          "model_module_version": "1.2.0",
          "state": {
            "_model_module": "@jupyter-widgets/base",
            "_model_module_version": "1.2.0",
            "_model_name": "LayoutModel",
            "_view_count": null,
            "_view_module": "@jupyter-widgets/base",
            "_view_module_version": "1.2.0",
            "_view_name": "LayoutView",
            "align_content": null,
            "align_items": null,
            "align_self": null,
            "border": null,
            "bottom": null,
            "display": null,
            "flex": null,
            "flex_flow": null,
            "grid_area": null,
            "grid_auto_columns": null,
            "grid_auto_flow": null,
            "grid_auto_rows": null,
            "grid_column": null,
            "grid_gap": null,
            "grid_row": null,
            "grid_template_areas": null,
            "grid_template_columns": null,
            "grid_template_rows": null,
            "height": null,
            "justify_content": null,
            "justify_items": null,
            "left": null,
            "margin": null,
            "max_height": null,
            "max_width": null,
            "min_height": null,
            "min_width": null,
            "object_fit": null,
            "object_position": null,
            "order": null,
            "overflow": null,
            "overflow_x": null,
            "overflow_y": null,
            "padding": null,
            "right": null,
            "top": null,
            "visibility": null,
            "width": null
          }
        },
        "98702a490d2b449e959755c142cb562a": {
          "model_module": "@jupyter-widgets/base",
          "model_name": "LayoutModel",
          "model_module_version": "1.2.0",
          "state": {
            "_model_module": "@jupyter-widgets/base",
            "_model_module_version": "1.2.0",
            "_model_name": "LayoutModel",
            "_view_count": null,
            "_view_module": "@jupyter-widgets/base",
            "_view_module_version": "1.2.0",
            "_view_name": "LayoutView",
            "align_content": null,
            "align_items": null,
            "align_self": null,
            "border": null,
            "bottom": null,
            "display": null,
            "flex": null,
            "flex_flow": null,
            "grid_area": null,
            "grid_auto_columns": null,
            "grid_auto_flow": null,
            "grid_auto_rows": null,
            "grid_column": null,
            "grid_gap": null,
            "grid_row": null,
            "grid_template_areas": null,
            "grid_template_columns": null,
            "grid_template_rows": null,
            "height": null,
            "justify_content": null,
            "justify_items": null,
            "left": null,
            "margin": null,
            "max_height": null,
            "max_width": null,
            "min_height": null,
            "min_width": null,
            "object_fit": null,
            "object_position": null,
            "order": null,
            "overflow": null,
            "overflow_x": null,
            "overflow_y": null,
            "padding": null,
            "right": null,
            "top": null,
            "visibility": null,
            "width": null
          }
        },
        "b06f4afc09d84f509042d15792dbf52c": {
          "model_module": "@jupyter-widgets/controls",
          "model_name": "DescriptionStyleModel",
          "model_module_version": "1.5.0",
          "state": {
            "_model_module": "@jupyter-widgets/controls",
            "_model_module_version": "1.5.0",
            "_model_name": "DescriptionStyleModel",
            "_view_count": null,
            "_view_module": "@jupyter-widgets/base",
            "_view_module_version": "1.2.0",
            "_view_name": "StyleView",
            "description_width": ""
          }
        },
        "4852831486524357b29fc6eb6d9dfa16": {
          "model_module": "@jupyter-widgets/base",
          "model_name": "LayoutModel",
          "model_module_version": "1.2.0",
          "state": {
            "_model_module": "@jupyter-widgets/base",
            "_model_module_version": "1.2.0",
            "_model_name": "LayoutModel",
            "_view_count": null,
            "_view_module": "@jupyter-widgets/base",
            "_view_module_version": "1.2.0",
            "_view_name": "LayoutView",
            "align_content": null,
            "align_items": null,
            "align_self": null,
            "border": null,
            "bottom": null,
            "display": null,
            "flex": null,
            "flex_flow": null,
            "grid_area": null,
            "grid_auto_columns": null,
            "grid_auto_flow": null,
            "grid_auto_rows": null,
            "grid_column": null,
            "grid_gap": null,
            "grid_row": null,
            "grid_template_areas": null,
            "grid_template_columns": null,
            "grid_template_rows": null,
            "height": null,
            "justify_content": null,
            "justify_items": null,
            "left": null,
            "margin": null,
            "max_height": null,
            "max_width": null,
            "min_height": null,
            "min_width": null,
            "object_fit": null,
            "object_position": null,
            "order": null,
            "overflow": null,
            "overflow_x": null,
            "overflow_y": null,
            "padding": null,
            "right": null,
            "top": null,
            "visibility": null,
            "width": null
          }
        },
        "eeb85779eb06479abfd3b8e2646c0cb5": {
          "model_module": "@jupyter-widgets/controls",
          "model_name": "ProgressStyleModel",
          "model_module_version": "1.5.0",
          "state": {
            "_model_module": "@jupyter-widgets/controls",
            "_model_module_version": "1.5.0",
            "_model_name": "ProgressStyleModel",
            "_view_count": null,
            "_view_module": "@jupyter-widgets/base",
            "_view_module_version": "1.2.0",
            "_view_name": "StyleView",
            "bar_color": null,
            "description_width": ""
          }
        },
        "e704c7bc842243afbafc58d2bb73644a": {
          "model_module": "@jupyter-widgets/base",
          "model_name": "LayoutModel",
          "model_module_version": "1.2.0",
          "state": {
            "_model_module": "@jupyter-widgets/base",
            "_model_module_version": "1.2.0",
            "_model_name": "LayoutModel",
            "_view_count": null,
            "_view_module": "@jupyter-widgets/base",
            "_view_module_version": "1.2.0",
            "_view_name": "LayoutView",
            "align_content": null,
            "align_items": null,
            "align_self": null,
            "border": null,
            "bottom": null,
            "display": null,
            "flex": null,
            "flex_flow": null,
            "grid_area": null,
            "grid_auto_columns": null,
            "grid_auto_flow": null,
            "grid_auto_rows": null,
            "grid_column": null,
            "grid_gap": null,
            "grid_row": null,
            "grid_template_areas": null,
            "grid_template_columns": null,
            "grid_template_rows": null,
            "height": null,
            "justify_content": null,
            "justify_items": null,
            "left": null,
            "margin": null,
            "max_height": null,
            "max_width": null,
            "min_height": null,
            "min_width": null,
            "object_fit": null,
            "object_position": null,
            "order": null,
            "overflow": null,
            "overflow_x": null,
            "overflow_y": null,
            "padding": null,
            "right": null,
            "top": null,
            "visibility": null,
            "width": null
          }
        },
        "3dbae81cb603492eacbf87e260c86401": {
          "model_module": "@jupyter-widgets/controls",
          "model_name": "DescriptionStyleModel",
          "model_module_version": "1.5.0",
          "state": {
            "_model_module": "@jupyter-widgets/controls",
            "_model_module_version": "1.5.0",
            "_model_name": "DescriptionStyleModel",
            "_view_count": null,
            "_view_module": "@jupyter-widgets/base",
            "_view_module_version": "1.2.0",
            "_view_name": "StyleView",
            "description_width": ""
          }
        },
        "73125d4d41794b448c1458d51e14aea6": {
          "model_module": "@jupyter-widgets/controls",
          "model_name": "HBoxModel",
          "model_module_version": "1.5.0",
          "state": {
            "_dom_classes": [],
            "_model_module": "@jupyter-widgets/controls",
            "_model_module_version": "1.5.0",
            "_model_name": "HBoxModel",
            "_view_count": null,
            "_view_module": "@jupyter-widgets/controls",
            "_view_module_version": "1.5.0",
            "_view_name": "HBoxView",
            "box_style": "",
            "children": [
              "IPY_MODEL_36130b1467b443288c473580880bbc61",
              "IPY_MODEL_c9eb5abdf4a542f4a5fa72f0505d1cc6",
              "IPY_MODEL_946bdd3deaf44a74bd79f4fb6b610980"
            ],
            "layout": "IPY_MODEL_1aa70357db194ea7b9694cfdc2b8aff8"
          }
        },
        "36130b1467b443288c473580880bbc61": {
          "model_module": "@jupyter-widgets/controls",
          "model_name": "HTMLModel",
          "model_module_version": "1.5.0",
          "state": {
            "_dom_classes": [],
            "_model_module": "@jupyter-widgets/controls",
            "_model_module_version": "1.5.0",
            "_model_name": "HTMLModel",
            "_view_count": null,
            "_view_module": "@jupyter-widgets/controls",
            "_view_module_version": "1.5.0",
            "_view_name": "HTMLView",
            "description": "",
            "description_tooltip": null,
            "layout": "IPY_MODEL_3408b4a707a34316aaa016ee050e2804",
            "placeholder": "​",
            "style": "IPY_MODEL_fea5d7457bf84820bded74957b0aa0eb",
            "value": "Loading checkpoint shards: 100%"
          }
        },
        "c9eb5abdf4a542f4a5fa72f0505d1cc6": {
          "model_module": "@jupyter-widgets/controls",
          "model_name": "FloatProgressModel",
          "model_module_version": "1.5.0",
          "state": {
            "_dom_classes": [],
            "_model_module": "@jupyter-widgets/controls",
            "_model_module_version": "1.5.0",
            "_model_name": "FloatProgressModel",
            "_view_count": null,
            "_view_module": "@jupyter-widgets/controls",
            "_view_module_version": "1.5.0",
            "_view_name": "ProgressView",
            "bar_style": "success",
            "description": "",
            "description_tooltip": null,
            "layout": "IPY_MODEL_3fc189702f814a9c9dea579053f5d2d4",
            "max": 3,
            "min": 0,
            "orientation": "horizontal",
            "style": "IPY_MODEL_4127b7ab21b048839ec4e359daf27533",
            "value": 3
          }
        },
        "946bdd3deaf44a74bd79f4fb6b610980": {
          "model_module": "@jupyter-widgets/controls",
          "model_name": "HTMLModel",
          "model_module_version": "1.5.0",
          "state": {
            "_dom_classes": [],
            "_model_module": "@jupyter-widgets/controls",
            "_model_module_version": "1.5.0",
            "_model_name": "HTMLModel",
            "_view_count": null,
            "_view_module": "@jupyter-widgets/controls",
            "_view_module_version": "1.5.0",
            "_view_name": "HTMLView",
            "description": "",
            "description_tooltip": null,
            "layout": "IPY_MODEL_b44b70021f5d4a2a85aca91c3e618880",
            "placeholder": "​",
            "style": "IPY_MODEL_d34bb6a632b7477a814c647703f03184",
            "value": " 3/3 [00:01&lt;00:00,  2.03it/s]"
          }
        },
        "1aa70357db194ea7b9694cfdc2b8aff8": {
          "model_module": "@jupyter-widgets/base",
          "model_name": "LayoutModel",
          "model_module_version": "1.2.0",
          "state": {
            "_model_module": "@jupyter-widgets/base",
            "_model_module_version": "1.2.0",
            "_model_name": "LayoutModel",
            "_view_count": null,
            "_view_module": "@jupyter-widgets/base",
            "_view_module_version": "1.2.0",
            "_view_name": "LayoutView",
            "align_content": null,
            "align_items": null,
            "align_self": null,
            "border": null,
            "bottom": null,
            "display": null,
            "flex": null,
            "flex_flow": null,
            "grid_area": null,
            "grid_auto_columns": null,
            "grid_auto_flow": null,
            "grid_auto_rows": null,
            "grid_column": null,
            "grid_gap": null,
            "grid_row": null,
            "grid_template_areas": null,
            "grid_template_columns": null,
            "grid_template_rows": null,
            "height": null,
            "justify_content": null,
            "justify_items": null,
            "left": null,
            "margin": null,
            "max_height": null,
            "max_width": null,
            "min_height": null,
            "min_width": null,
            "object_fit": null,
            "object_position": null,
            "order": null,
            "overflow": null,
            "overflow_x": null,
            "overflow_y": null,
            "padding": null,
            "right": null,
            "top": null,
            "visibility": null,
            "width": null
          }
        },
        "3408b4a707a34316aaa016ee050e2804": {
          "model_module": "@jupyter-widgets/base",
          "model_name": "LayoutModel",
          "model_module_version": "1.2.0",
          "state": {
            "_model_module": "@jupyter-widgets/base",
            "_model_module_version": "1.2.0",
            "_model_name": "LayoutModel",
            "_view_count": null,
            "_view_module": "@jupyter-widgets/base",
            "_view_module_version": "1.2.0",
            "_view_name": "LayoutView",
            "align_content": null,
            "align_items": null,
            "align_self": null,
            "border": null,
            "bottom": null,
            "display": null,
            "flex": null,
            "flex_flow": null,
            "grid_area": null,
            "grid_auto_columns": null,
            "grid_auto_flow": null,
            "grid_auto_rows": null,
            "grid_column": null,
            "grid_gap": null,
            "grid_row": null,
            "grid_template_areas": null,
            "grid_template_columns": null,
            "grid_template_rows": null,
            "height": null,
            "justify_content": null,
            "justify_items": null,
            "left": null,
            "margin": null,
            "max_height": null,
            "max_width": null,
            "min_height": null,
            "min_width": null,
            "object_fit": null,
            "object_position": null,
            "order": null,
            "overflow": null,
            "overflow_x": null,
            "overflow_y": null,
            "padding": null,
            "right": null,
            "top": null,
            "visibility": null,
            "width": null
          }
        },
        "fea5d7457bf84820bded74957b0aa0eb": {
          "model_module": "@jupyter-widgets/controls",
          "model_name": "DescriptionStyleModel",
          "model_module_version": "1.5.0",
          "state": {
            "_model_module": "@jupyter-widgets/controls",
            "_model_module_version": "1.5.0",
            "_model_name": "DescriptionStyleModel",
            "_view_count": null,
            "_view_module": "@jupyter-widgets/base",
            "_view_module_version": "1.2.0",
            "_view_name": "StyleView",
            "description_width": ""
          }
        },
        "3fc189702f814a9c9dea579053f5d2d4": {
          "model_module": "@jupyter-widgets/base",
          "model_name": "LayoutModel",
          "model_module_version": "1.2.0",
          "state": {
            "_model_module": "@jupyter-widgets/base",
            "_model_module_version": "1.2.0",
            "_model_name": "LayoutModel",
            "_view_count": null,
            "_view_module": "@jupyter-widgets/base",
            "_view_module_version": "1.2.0",
            "_view_name": "LayoutView",
            "align_content": null,
            "align_items": null,
            "align_self": null,
            "border": null,
            "bottom": null,
            "display": null,
            "flex": null,
            "flex_flow": null,
            "grid_area": null,
            "grid_auto_columns": null,
            "grid_auto_flow": null,
            "grid_auto_rows": null,
            "grid_column": null,
            "grid_gap": null,
            "grid_row": null,
            "grid_template_areas": null,
            "grid_template_columns": null,
            "grid_template_rows": null,
            "height": null,
            "justify_content": null,
            "justify_items": null,
            "left": null,
            "margin": null,
            "max_height": null,
            "max_width": null,
            "min_height": null,
            "min_width": null,
            "object_fit": null,
            "object_position": null,
            "order": null,
            "overflow": null,
            "overflow_x": null,
            "overflow_y": null,
            "padding": null,
            "right": null,
            "top": null,
            "visibility": null,
            "width": null
          }
        },
        "4127b7ab21b048839ec4e359daf27533": {
          "model_module": "@jupyter-widgets/controls",
          "model_name": "ProgressStyleModel",
          "model_module_version": "1.5.0",
          "state": {
            "_model_module": "@jupyter-widgets/controls",
            "_model_module_version": "1.5.0",
            "_model_name": "ProgressStyleModel",
            "_view_count": null,
            "_view_module": "@jupyter-widgets/base",
            "_view_module_version": "1.2.0",
            "_view_name": "StyleView",
            "bar_color": null,
            "description_width": ""
          }
        },
        "b44b70021f5d4a2a85aca91c3e618880": {
          "model_module": "@jupyter-widgets/base",
          "model_name": "LayoutModel",
          "model_module_version": "1.2.0",
          "state": {
            "_model_module": "@jupyter-widgets/base",
            "_model_module_version": "1.2.0",
            "_model_name": "LayoutModel",
            "_view_count": null,
            "_view_module": "@jupyter-widgets/base",
            "_view_module_version": "1.2.0",
            "_view_name": "LayoutView",
            "align_content": null,
            "align_items": null,
            "align_self": null,
            "border": null,
            "bottom": null,
            "display": null,
            "flex": null,
            "flex_flow": null,
            "grid_area": null,
            "grid_auto_columns": null,
            "grid_auto_flow": null,
            "grid_auto_rows": null,
            "grid_column": null,
            "grid_gap": null,
            "grid_row": null,
            "grid_template_areas": null,
            "grid_template_columns": null,
            "grid_template_rows": null,
            "height": null,
            "justify_content": null,
            "justify_items": null,
            "left": null,
            "margin": null,
            "max_height": null,
            "max_width": null,
            "min_height": null,
            "min_width": null,
            "object_fit": null,
            "object_position": null,
            "order": null,
            "overflow": null,
            "overflow_x": null,
            "overflow_y": null,
            "padding": null,
            "right": null,
            "top": null,
            "visibility": null,
            "width": null
          }
        },
        "d34bb6a632b7477a814c647703f03184": {
          "model_module": "@jupyter-widgets/controls",
          "model_name": "DescriptionStyleModel",
          "model_module_version": "1.5.0",
          "state": {
            "_model_module": "@jupyter-widgets/controls",
            "_model_module_version": "1.5.0",
            "_model_name": "DescriptionStyleModel",
            "_view_count": null,
            "_view_module": "@jupyter-widgets/base",
            "_view_module_version": "1.2.0",
            "_view_name": "StyleView",
            "description_width": ""
          }
        }
      }
    }
  },
  "nbformat": 4,
  "nbformat_minor": 0
}